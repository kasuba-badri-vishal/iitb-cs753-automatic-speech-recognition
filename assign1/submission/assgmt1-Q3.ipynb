{
 "cells": [
  {
   "cell_type": "markdown",
   "metadata": {
    "id": "p3S0Etz_Nokz"
   },
   "source": [
    "\n",
    "# PART I: Running a SpeechBrain ASR Recipe"
   ]
  },
  {
   "cell_type": "markdown",
   "metadata": {
    "id": "bKXIYTJSOnt_"
   },
   "source": [
    "### Setting up the codebase."
   ]
  },
  {
   "cell_type": "code",
   "execution_count": 1,
   "metadata": {
    "id": "A5H2lpHX7npZ"
   },
   "outputs": [
    {
     "name": "stdout",
     "output_type": "stream",
     "text": [
      "Cloning into 'speechbrain'...\n",
      "remote: Enumerating objects: 86452, done.\u001b[K\n",
      "remote: Counting objects: 100% (27/27), done.\u001b[K\n",
      "remote: Compressing objects: 100% (19/19), done.\u001b[K\n",
      "remote: Total 86452 (delta 13), reused 20 (delta 7), pack-reused 86425\u001b[K\n",
      "Receiving objects: 100% (86452/86452), 81.54 MiB | 11.29 MiB/s, done.\n",
      "Resolving deltas: 100% (59244/59244), done.\n",
      "/raid/nlp/pranavg/meet/ASR/Assignment-1/plot/speechbrain\n",
      "\u001b[33mWARNING: Ignoring invalid distribution -vidia-cusparse-cu12 (/raid/nlp/pranavg/.local/lib/python3.8/site-packages)\u001b[0m\u001b[33m\n",
      "\u001b[0mIgnoring SoundFile: markers 'sys_platform == \"win32\"' don't match your environment\n",
      "Requirement already satisfied: black==19.10b0 in /raid/nlp/pranavg/anaconda3/envs/nmt/lib/python3.8/site-packages (from -r lint-requirements.txt (line 1)) (19.10b0)\n",
      "Requirement already satisfied: click==8.0.4 in /raid/nlp/pranavg/anaconda3/envs/nmt/lib/python3.8/site-packages (from -r lint-requirements.txt (line 2)) (8.0.4)\n",
      "Requirement already satisfied: flake8==3.7.9 in /raid/nlp/pranavg/anaconda3/envs/nmt/lib/python3.8/site-packages (from -r lint-requirements.txt (line 3)) (3.7.9)\n",
      "Requirement already satisfied: pycodestyle==2.5.0 in /raid/nlp/pranavg/anaconda3/envs/nmt/lib/python3.8/site-packages (from -r lint-requirements.txt (line 4)) (2.5.0)\n",
      "Requirement already satisfied: pytest==7.4.0 in /raid/nlp/pranavg/anaconda3/envs/nmt/lib/python3.8/site-packages (from -r lint-requirements.txt (line 5)) (7.4.0)\n",
      "Requirement already satisfied: yamllint==1.23.0 in /raid/nlp/pranavg/anaconda3/envs/nmt/lib/python3.8/site-packages (from -r lint-requirements.txt (line 6)) (1.23.0)\n",
      "Requirement already satisfied: huggingface_hub>=0.8.0 in /raid/nlp/pranavg/.local/lib/python3.8/site-packages (from -r requirements.txt (line 2)) (0.20.3)\n",
      "Requirement already satisfied: hyperpyyaml>=0.0.1 in /raid/nlp/pranavg/.local/lib/python3.8/site-packages (from -r requirements.txt (line 3)) (1.2.2)\n",
      "Requirement already satisfied: joblib>=0.14.1 in /raid/nlp/pranavg/.local/lib/python3.8/site-packages (from -r requirements.txt (line 4)) (1.3.2)\n",
      "Requirement already satisfied: numpy>=1.17.0 in /raid/nlp/pranavg/.local/lib/python3.8/site-packages (from -r requirements.txt (line 5)) (1.24.3)\n",
      "Requirement already satisfied: packaging in /raid/nlp/pranavg/.local/lib/python3.8/site-packages (from -r requirements.txt (line 6)) (23.2)\n",
      "Requirement already satisfied: pandas>=1.0.1 in /raid/nlp/pranavg/.local/lib/python3.8/site-packages (from -r requirements.txt (line 7)) (2.0.3)\n",
      "Requirement already satisfied: pre-commit>=2.3.0 in /raid/nlp/pranavg/anaconda3/envs/nmt/lib/python3.8/site-packages (from -r requirements.txt (line 8)) (3.5.0)\n",
      "Requirement already satisfied: scipy>=1.4.1 in /raid/nlp/pranavg/.local/lib/python3.8/site-packages (from -r requirements.txt (line 9)) (1.5.4)\n",
      "Requirement already satisfied: sentencepiece>=0.1.91 in /raid/nlp/pranavg/.local/lib/python3.8/site-packages (from -r requirements.txt (line 10)) (0.1.98)\n",
      "Requirement already satisfied: torch>=1.9.0 in /raid/nlp/pranavg/.local/lib/python3.8/site-packages (from -r requirements.txt (line 12)) (2.1.2)\n",
      "Requirement already satisfied: torchaudio>=1.9.0 in /raid/nlp/pranavg/.local/lib/python3.8/site-packages (from -r requirements.txt (line 13)) (2.1.2)\n",
      "Requirement already satisfied: tqdm>=4.42.0 in /raid/nlp/pranavg/.local/lib/python3.8/site-packages (from -r requirements.txt (line 14)) (4.66.1)\n",
      "Requirement already satisfied: transformers>=4.30.0 in /raid/nlp/pranavg/.local/lib/python3.8/site-packages (from -r requirements.txt (line 15)) (4.37.1)\n",
      "Requirement already satisfied: attrs>=18.1.0 in /raid/nlp/pranavg/.local/lib/python3.8/site-packages (from black==19.10b0->-r lint-requirements.txt (line 1)) (23.2.0)\n",
      "Requirement already satisfied: appdirs in /raid/nlp/pranavg/.local/lib/python3.8/site-packages (from black==19.10b0->-r lint-requirements.txt (line 1)) (1.4.4)\n",
      "Requirement already satisfied: toml>=0.9.4 in /raid/nlp/pranavg/.local/lib/python3.8/site-packages (from black==19.10b0->-r lint-requirements.txt (line 1)) (0.10.2)\n",
      "Requirement already satisfied: typed-ast>=1.4.0 in /raid/nlp/pranavg/anaconda3/envs/nmt/lib/python3.8/site-packages (from black==19.10b0->-r lint-requirements.txt (line 1)) (1.5.5)\n",
      "Requirement already satisfied: regex in /raid/nlp/pranavg/.local/lib/python3.8/site-packages (from black==19.10b0->-r lint-requirements.txt (line 1)) (2023.12.25)\n",
      "Requirement already satisfied: pathspec<1,>=0.6 in /raid/nlp/pranavg/.local/lib/python3.8/site-packages (from black==19.10b0->-r lint-requirements.txt (line 1)) (0.12.1)\n",
      "Requirement already satisfied: entrypoints<0.4.0,>=0.3.0 in /raid/nlp/pranavg/anaconda3/envs/nmt/lib/python3.8/site-packages (from flake8==3.7.9->-r lint-requirements.txt (line 3)) (0.3)\n",
      "Requirement already satisfied: pyflakes<2.2.0,>=2.1.0 in /raid/nlp/pranavg/anaconda3/envs/nmt/lib/python3.8/site-packages (from flake8==3.7.9->-r lint-requirements.txt (line 3)) (2.1.1)\n",
      "Requirement already satisfied: mccabe<0.7.0,>=0.6.0 in /raid/nlp/pranavg/anaconda3/envs/nmt/lib/python3.8/site-packages (from flake8==3.7.9->-r lint-requirements.txt (line 3)) (0.6.1)\n",
      "Requirement already satisfied: iniconfig in /raid/nlp/pranavg/.local/lib/python3.8/site-packages (from pytest==7.4.0->-r lint-requirements.txt (line 5)) (2.0.0)\n",
      "Requirement already satisfied: pluggy<2.0,>=0.12 in /raid/nlp/pranavg/.local/lib/python3.8/site-packages (from pytest==7.4.0->-r lint-requirements.txt (line 5)) (0.13.1)\n",
      "Requirement already satisfied: exceptiongroup>=1.0.0rc8 in /raid/nlp/pranavg/.local/lib/python3.8/site-packages (from pytest==7.4.0->-r lint-requirements.txt (line 5)) (1.1.3)\n",
      "Requirement already satisfied: tomli>=1.0.0 in /raid/nlp/pranavg/.local/lib/python3.8/site-packages (from pytest==7.4.0->-r lint-requirements.txt (line 5)) (1.2.3)\n",
      "Requirement already satisfied: pyyaml in /raid/nlp/pranavg/.local/lib/python3.8/site-packages (from yamllint==1.23.0->-r lint-requirements.txt (line 6)) (6.0.1)\n",
      "Requirement already satisfied: filelock in /raid/nlp/pranavg/.local/lib/python3.8/site-packages (from huggingface_hub>=0.8.0->-r requirements.txt (line 2)) (3.13.1)\n",
      "Requirement already satisfied: fsspec>=2023.5.0 in /raid/nlp/pranavg/.local/lib/python3.8/site-packages (from huggingface_hub>=0.8.0->-r requirements.txt (line 2)) (2023.10.0)\n",
      "Requirement already satisfied: requests in /raid/nlp/pranavg/.local/lib/python3.8/site-packages (from huggingface_hub>=0.8.0->-r requirements.txt (line 2)) (2.31.0)\n",
      "Requirement already satisfied: typing-extensions>=3.7.4.3 in /raid/nlp/pranavg/.local/lib/python3.8/site-packages (from huggingface_hub>=0.8.0->-r requirements.txt (line 2)) (4.5.0)\n",
      "Requirement already satisfied: ruamel.yaml>=0.17.28 in /raid/nlp/pranavg/.local/lib/python3.8/site-packages (from hyperpyyaml>=0.0.1->-r requirements.txt (line 3)) (0.18.6)\n",
      "Requirement already satisfied: python-dateutil>=2.8.2 in /raid/nlp/pranavg/.local/lib/python3.8/site-packages (from pandas>=1.0.1->-r requirements.txt (line 7)) (2.8.2)\n",
      "Requirement already satisfied: pytz>=2020.1 in /raid/nlp/pranavg/.local/lib/python3.8/site-packages (from pandas>=1.0.1->-r requirements.txt (line 7)) (2023.3.post1)\n",
      "Requirement already satisfied: tzdata>=2022.1 in /raid/nlp/pranavg/.local/lib/python3.8/site-packages (from pandas>=1.0.1->-r requirements.txt (line 7)) (2023.4)\n",
      "Requirement already satisfied: cfgv>=2.0.0 in /raid/nlp/pranavg/anaconda3/envs/nmt/lib/python3.8/site-packages (from pre-commit>=2.3.0->-r requirements.txt (line 8)) (3.4.0)\n",
      "Requirement already satisfied: identify>=1.0.0 in /raid/nlp/pranavg/anaconda3/envs/nmt/lib/python3.8/site-packages (from pre-commit>=2.3.0->-r requirements.txt (line 8)) (2.5.34)\n",
      "Requirement already satisfied: nodeenv>=0.11.1 in /raid/nlp/pranavg/anaconda3/envs/nmt/lib/python3.8/site-packages (from pre-commit>=2.3.0->-r requirements.txt (line 8)) (1.8.0)\n",
      "Requirement already satisfied: virtualenv>=20.10.0 in /raid/nlp/pranavg/anaconda3/envs/nmt/lib/python3.8/site-packages (from pre-commit>=2.3.0->-r requirements.txt (line 8)) (20.25.0)\n",
      "Requirement already satisfied: sympy in /raid/nlp/pranavg/.local/lib/python3.8/site-packages (from torch>=1.9.0->-r requirements.txt (line 12)) (1.12)\n",
      "Requirement already satisfied: networkx in /raid/nlp/pranavg/.local/lib/python3.8/site-packages (from torch>=1.9.0->-r requirements.txt (line 12)) (3.1)\n",
      "Requirement already satisfied: jinja2 in /raid/nlp/pranavg/.local/lib/python3.8/site-packages (from torch>=1.9.0->-r requirements.txt (line 12)) (3.1.3)\n",
      "Requirement already satisfied: nvidia-cuda-nvrtc-cu12==12.1.105 in /raid/nlp/pranavg/.local/lib/python3.8/site-packages (from torch>=1.9.0->-r requirements.txt (line 12)) (12.1.105)\n",
      "Requirement already satisfied: nvidia-cuda-runtime-cu12==12.1.105 in /raid/nlp/pranavg/.local/lib/python3.8/site-packages (from torch>=1.9.0->-r requirements.txt (line 12)) (12.1.105)\n",
      "Requirement already satisfied: nvidia-cuda-cupti-cu12==12.1.105 in /raid/nlp/pranavg/.local/lib/python3.8/site-packages (from torch>=1.9.0->-r requirements.txt (line 12)) (12.1.105)\n",
      "Requirement already satisfied: nvidia-cudnn-cu12==8.9.2.26 in /raid/nlp/pranavg/.local/lib/python3.8/site-packages (from torch>=1.9.0->-r requirements.txt (line 12)) (8.9.2.26)\n",
      "Requirement already satisfied: nvidia-cublas-cu12==12.1.3.1 in /raid/nlp/pranavg/.local/lib/python3.8/site-packages (from torch>=1.9.0->-r requirements.txt (line 12)) (12.1.3.1)\n",
      "Requirement already satisfied: nvidia-cufft-cu12==11.0.2.54 in /raid/nlp/pranavg/.local/lib/python3.8/site-packages (from torch>=1.9.0->-r requirements.txt (line 12)) (11.0.2.54)\n",
      "Requirement already satisfied: nvidia-curand-cu12==10.3.2.106 in /raid/nlp/pranavg/.local/lib/python3.8/site-packages (from torch>=1.9.0->-r requirements.txt (line 12)) (10.3.2.106)\n",
      "Requirement already satisfied: nvidia-cusolver-cu12==11.4.5.107 in /raid/nlp/pranavg/.local/lib/python3.8/site-packages (from torch>=1.9.0->-r requirements.txt (line 12)) (11.4.5.107)\n",
      "Requirement already satisfied: nvidia-cusparse-cu12==12.1.0.106 in /raid/nlp/pranavg/.local/lib/python3.8/site-packages (from torch>=1.9.0->-r requirements.txt (line 12)) (12.1.0.106)\n",
      "Requirement already satisfied: nvidia-nccl-cu12==2.18.1 in /raid/nlp/pranavg/.local/lib/python3.8/site-packages (from torch>=1.9.0->-r requirements.txt (line 12)) (2.18.1)\n",
      "Requirement already satisfied: nvidia-nvtx-cu12==12.1.105 in /raid/nlp/pranavg/.local/lib/python3.8/site-packages (from torch>=1.9.0->-r requirements.txt (line 12)) (12.1.105)\n",
      "Requirement already satisfied: triton==2.1.0 in /raid/nlp/pranavg/.local/lib/python3.8/site-packages (from torch>=1.9.0->-r requirements.txt (line 12)) (2.1.0)\n",
      "Requirement already satisfied: nvidia-nvjitlink-cu12 in /raid/nlp/pranavg/.local/lib/python3.8/site-packages (from nvidia-cusolver-cu12==11.4.5.107->torch>=1.9.0->-r requirements.txt (line 12)) (12.3.101)\n",
      "Requirement already satisfied: tokenizers<0.19,>=0.14 in /raid/nlp/pranavg/.local/lib/python3.8/site-packages (from transformers>=4.30.0->-r requirements.txt (line 15)) (0.15.1)\n",
      "Requirement already satisfied: safetensors>=0.3.1 in /raid/nlp/pranavg/.local/lib/python3.8/site-packages (from transformers>=4.30.0->-r requirements.txt (line 15)) (0.4.1)\n",
      "Requirement already satisfied: setuptools in /raid/nlp/pranavg/.local/lib/python3.8/site-packages (from nodeenv>=0.11.1->pre-commit>=2.3.0->-r requirements.txt (line 8)) (69.0.3)\n",
      "Requirement already satisfied: six>=1.5 in /raid/nlp/pranavg/.local/lib/python3.8/site-packages (from python-dateutil>=2.8.2->pandas>=1.0.1->-r requirements.txt (line 7)) (1.16.0)\n",
      "Requirement already satisfied: ruamel.yaml.clib>=0.2.7 in /raid/nlp/pranavg/.local/lib/python3.8/site-packages (from ruamel.yaml>=0.17.28->hyperpyyaml>=0.0.1->-r requirements.txt (line 3)) (0.2.8)\n",
      "Requirement already satisfied: distlib<1,>=0.3.7 in /raid/nlp/pranavg/anaconda3/envs/nmt/lib/python3.8/site-packages (from virtualenv>=20.10.0->pre-commit>=2.3.0->-r requirements.txt (line 8)) (0.3.8)\n",
      "Requirement already satisfied: platformdirs<5,>=3.9.1 in /raid/nlp/pranavg/.local/lib/python3.8/site-packages (from virtualenv>=20.10.0->pre-commit>=2.3.0->-r requirements.txt (line 8)) (3.10.0)\n",
      "Requirement already satisfied: MarkupSafe>=2.0 in /raid/nlp/pranavg/.local/lib/python3.8/site-packages (from jinja2->torch>=1.9.0->-r requirements.txt (line 12)) (2.1.4)\n",
      "Requirement already satisfied: charset-normalizer<4,>=2 in /raid/nlp/pranavg/.local/lib/python3.8/site-packages (from requests->huggingface_hub>=0.8.0->-r requirements.txt (line 2)) (3.3.2)\n",
      "Requirement already satisfied: idna<4,>=2.5 in /raid/nlp/pranavg/.local/lib/python3.8/site-packages (from requests->huggingface_hub>=0.8.0->-r requirements.txt (line 2)) (3.6)\n",
      "Requirement already satisfied: urllib3<3,>=1.21.1 in /raid/nlp/pranavg/.local/lib/python3.8/site-packages (from requests->huggingface_hub>=0.8.0->-r requirements.txt (line 2)) (2.1.0)\n",
      "Requirement already satisfied: certifi>=2017.4.17 in /raid/nlp/pranavg/.local/lib/python3.8/site-packages (from requests->huggingface_hub>=0.8.0->-r requirements.txt (line 2)) (2023.11.17)\n",
      "Requirement already satisfied: mpmath>=0.19 in /raid/nlp/pranavg/.local/lib/python3.8/site-packages (from sympy->torch>=1.9.0->-r requirements.txt (line 12)) (1.3.0)\n",
      "\u001b[33mWARNING: Ignoring invalid distribution -vidia-cusparse-cu12 (/raid/nlp/pranavg/.local/lib/python3.8/site-packages)\u001b[0m\u001b[33m\n",
      "\u001b[0m\u001b[33mDEPRECATION: omegaconf 2.0.6 has a non-standard dependency specifier PyYAML>=5.1.*. pip 24.1 will enforce this behaviour change. A possible replacement is to upgrade to a newer version of omegaconf or contact the author to suggest that they release a version with a conforming dependency specifiers. Discussion can be found at https://github.com/pypa/pip/issues/12063\u001b[0m\u001b[33m\n",
      "\u001b[0m\u001b[33mWARNING: Ignoring invalid distribution -vidia-cusparse-cu12 (/raid/nlp/pranavg/.local/lib/python3.8/site-packages)\u001b[0m\u001b[33m\n",
      "\u001b[0mObtaining file:///raid/nlp/pranavg/meet/ASR/Assignment-1/plot/speechbrain\n",
      "  Installing build dependencies ... \u001b[?25ldone\n",
      "\u001b[?25h  Checking if build backend supports build_editable ... \u001b[?25ldone\n",
      "\u001b[?25h  Getting requirements to build editable ... \u001b[?25ldone\n",
      "\u001b[?25h  Installing backend dependencies ... \u001b[?25ldone\n",
      "\u001b[?25h  Preparing editable metadata (pyproject.toml) ... \u001b[?25ldone\n",
      "\u001b[33m  WARNING: Ignoring invalid distribution -vidia-cusparse-cu12 (/raid/nlp/pranavg/.local/lib/python3.8/site-packages)\u001b[0m\u001b[33m\n",
      "\u001b[0m\u001b[?25hRequirement already satisfied: hyperpyyaml in /raid/nlp/pranavg/.local/lib/python3.8/site-packages (from speechbrain==0.5.16) (1.2.2)\n",
      "Requirement already satisfied: joblib in /raid/nlp/pranavg/.local/lib/python3.8/site-packages (from speechbrain==0.5.16) (1.3.2)\n",
      "Requirement already satisfied: numpy in /raid/nlp/pranavg/.local/lib/python3.8/site-packages (from speechbrain==0.5.16) (1.24.3)\n",
      "Requirement already satisfied: packaging in /raid/nlp/pranavg/.local/lib/python3.8/site-packages (from speechbrain==0.5.16) (23.2)\n",
      "Requirement already satisfied: scipy in /raid/nlp/pranavg/.local/lib/python3.8/site-packages (from speechbrain==0.5.16) (1.5.4)\n",
      "Requirement already satisfied: sentencepiece in /raid/nlp/pranavg/.local/lib/python3.8/site-packages (from speechbrain==0.5.16) (0.1.98)\n",
      "Requirement already satisfied: torch>=1.9 in /raid/nlp/pranavg/.local/lib/python3.8/site-packages (from speechbrain==0.5.16) (2.1.2)\n",
      "Requirement already satisfied: torchaudio in /raid/nlp/pranavg/.local/lib/python3.8/site-packages (from speechbrain==0.5.16) (2.1.2)\n",
      "Requirement already satisfied: tqdm in /raid/nlp/pranavg/.local/lib/python3.8/site-packages (from speechbrain==0.5.16) (4.66.1)\n",
      "Requirement already satisfied: huggingface-hub in /raid/nlp/pranavg/.local/lib/python3.8/site-packages (from speechbrain==0.5.16) (0.20.3)\n",
      "Requirement already satisfied: filelock in /raid/nlp/pranavg/.local/lib/python3.8/site-packages (from torch>=1.9->speechbrain==0.5.16) (3.13.1)\n",
      "Requirement already satisfied: typing-extensions in /raid/nlp/pranavg/.local/lib/python3.8/site-packages (from torch>=1.9->speechbrain==0.5.16) (4.5.0)\n",
      "Requirement already satisfied: sympy in /raid/nlp/pranavg/.local/lib/python3.8/site-packages (from torch>=1.9->speechbrain==0.5.16) (1.12)\n",
      "Requirement already satisfied: networkx in /raid/nlp/pranavg/.local/lib/python3.8/site-packages (from torch>=1.9->speechbrain==0.5.16) (3.1)\n",
      "Requirement already satisfied: jinja2 in /raid/nlp/pranavg/.local/lib/python3.8/site-packages (from torch>=1.9->speechbrain==0.5.16) (3.1.3)\n",
      "Requirement already satisfied: fsspec in /raid/nlp/pranavg/.local/lib/python3.8/site-packages (from torch>=1.9->speechbrain==0.5.16) (2023.10.0)\n",
      "Requirement already satisfied: nvidia-cuda-nvrtc-cu12==12.1.105 in /raid/nlp/pranavg/.local/lib/python3.8/site-packages (from torch>=1.9->speechbrain==0.5.16) (12.1.105)\n",
      "Requirement already satisfied: nvidia-cuda-runtime-cu12==12.1.105 in /raid/nlp/pranavg/.local/lib/python3.8/site-packages (from torch>=1.9->speechbrain==0.5.16) (12.1.105)\n",
      "Requirement already satisfied: nvidia-cuda-cupti-cu12==12.1.105 in /raid/nlp/pranavg/.local/lib/python3.8/site-packages (from torch>=1.9->speechbrain==0.5.16) (12.1.105)\n",
      "Requirement already satisfied: nvidia-cudnn-cu12==8.9.2.26 in /raid/nlp/pranavg/.local/lib/python3.8/site-packages (from torch>=1.9->speechbrain==0.5.16) (8.9.2.26)\n",
      "Requirement already satisfied: nvidia-cublas-cu12==12.1.3.1 in /raid/nlp/pranavg/.local/lib/python3.8/site-packages (from torch>=1.9->speechbrain==0.5.16) (12.1.3.1)\n",
      "Requirement already satisfied: nvidia-cufft-cu12==11.0.2.54 in /raid/nlp/pranavg/.local/lib/python3.8/site-packages (from torch>=1.9->speechbrain==0.5.16) (11.0.2.54)\n",
      "Requirement already satisfied: nvidia-curand-cu12==10.3.2.106 in /raid/nlp/pranavg/.local/lib/python3.8/site-packages (from torch>=1.9->speechbrain==0.5.16) (10.3.2.106)\n",
      "Requirement already satisfied: nvidia-cusolver-cu12==11.4.5.107 in /raid/nlp/pranavg/.local/lib/python3.8/site-packages (from torch>=1.9->speechbrain==0.5.16) (11.4.5.107)\n",
      "Requirement already satisfied: nvidia-cusparse-cu12==12.1.0.106 in /raid/nlp/pranavg/.local/lib/python3.8/site-packages (from torch>=1.9->speechbrain==0.5.16) (12.1.0.106)\n",
      "Requirement already satisfied: nvidia-nccl-cu12==2.18.1 in /raid/nlp/pranavg/.local/lib/python3.8/site-packages (from torch>=1.9->speechbrain==0.5.16) (2.18.1)\n",
      "Requirement already satisfied: nvidia-nvtx-cu12==12.1.105 in /raid/nlp/pranavg/.local/lib/python3.8/site-packages (from torch>=1.9->speechbrain==0.5.16) (12.1.105)\n",
      "Requirement already satisfied: triton==2.1.0 in /raid/nlp/pranavg/.local/lib/python3.8/site-packages (from torch>=1.9->speechbrain==0.5.16) (2.1.0)\n",
      "Requirement already satisfied: nvidia-nvjitlink-cu12 in /raid/nlp/pranavg/.local/lib/python3.8/site-packages (from nvidia-cusolver-cu12==11.4.5.107->torch>=1.9->speechbrain==0.5.16) (12.3.101)\n",
      "Requirement already satisfied: requests in /raid/nlp/pranavg/.local/lib/python3.8/site-packages (from huggingface-hub->speechbrain==0.5.16) (2.31.0)\n",
      "Requirement already satisfied: pyyaml>=5.1 in /raid/nlp/pranavg/.local/lib/python3.8/site-packages (from huggingface-hub->speechbrain==0.5.16) (6.0.1)\n",
      "Requirement already satisfied: ruamel.yaml>=0.17.28 in /raid/nlp/pranavg/.local/lib/python3.8/site-packages (from hyperpyyaml->speechbrain==0.5.16) (0.18.6)\n",
      "Requirement already satisfied: ruamel.yaml.clib>=0.2.7 in /raid/nlp/pranavg/.local/lib/python3.8/site-packages (from ruamel.yaml>=0.17.28->hyperpyyaml->speechbrain==0.5.16) (0.2.8)\n",
      "Requirement already satisfied: MarkupSafe>=2.0 in /raid/nlp/pranavg/.local/lib/python3.8/site-packages (from jinja2->torch>=1.9->speechbrain==0.5.16) (2.1.4)\n",
      "Requirement already satisfied: charset-normalizer<4,>=2 in /raid/nlp/pranavg/.local/lib/python3.8/site-packages (from requests->huggingface-hub->speechbrain==0.5.16) (3.3.2)\n",
      "Requirement already satisfied: idna<4,>=2.5 in /raid/nlp/pranavg/.local/lib/python3.8/site-packages (from requests->huggingface-hub->speechbrain==0.5.16) (3.6)\n",
      "Requirement already satisfied: urllib3<3,>=1.21.1 in /raid/nlp/pranavg/.local/lib/python3.8/site-packages (from requests->huggingface-hub->speechbrain==0.5.16) (2.1.0)\n",
      "Requirement already satisfied: certifi>=2017.4.17 in /raid/nlp/pranavg/.local/lib/python3.8/site-packages (from requests->huggingface-hub->speechbrain==0.5.16) (2023.11.17)\n",
      "Requirement already satisfied: mpmath>=0.19 in /raid/nlp/pranavg/.local/lib/python3.8/site-packages (from sympy->torch>=1.9->speechbrain==0.5.16) (1.3.0)\n",
      "Building wheels for collected packages: speechbrain\n",
      "  Building editable for speechbrain (pyproject.toml) ... \u001b[?25ldone\n",
      "\u001b[?25h  Created wheel for speechbrain: filename=speechbrain-0.5.16-0.editable-py3-none-any.whl size=14844 sha256=8c6c9329a0bbef6e3fee55428a83078f358b285e1539a05343f346a6ebf68b31\n",
      "  Stored in directory: /tmp/pip-ephem-wheel-cache-tykltady/wheels/0c/43/d2/f6d86ea15711396008e54beecf8f3de7f351ca457137701fae\n",
      "Successfully built speechbrain\n",
      "\u001b[33mWARNING: Ignoring invalid distribution -vidia-cusparse-cu12 (/raid/nlp/pranavg/.local/lib/python3.8/site-packages)\u001b[0m\u001b[33m\n",
      "\u001b[0m\u001b[33mDEPRECATION: omegaconf 2.0.6 has a non-standard dependency specifier PyYAML>=5.1.*. pip 24.1 will enforce this behaviour change. A possible replacement is to upgrade to a newer version of omegaconf or contact the author to suggest that they release a version with a conforming dependency specifiers. Discussion can be found at https://github.com/pypa/pip/issues/12063\u001b[0m\u001b[33m\n",
      "\u001b[0mInstalling collected packages: speechbrain\n",
      "  Attempting uninstall: speechbrain\n",
      "\u001b[33m    WARNING: Ignoring invalid distribution -vidia-cusparse-cu12 (/raid/nlp/pranavg/.local/lib/python3.8/site-packages)\u001b[0m\u001b[33m\n",
      "\u001b[0m    Found existing installation: speechbrain 0.5.16\n",
      "    Uninstalling speechbrain-0.5.16:\n",
      "      Successfully uninstalled speechbrain-0.5.16\n",
      "Successfully installed speechbrain-0.5.16\n"
     ]
    }
   ],
   "source": [
    "#%%capture\n",
    "\n",
    "# Clone SpeechBrain repository\n",
    "!git clone https://github.com/Darshan7575/speechbrain.git\n",
    "%cd ./speechbrain/\n",
    "\n",
    "# Install required dependencies\n",
    "!pip install -r requirements.txt\n",
    "\n",
    "# Install SpeechBrain in editable mode\n",
    "!pip install -e ."
   ]
  },
  {
   "cell_type": "code",
   "execution_count": 2,
   "metadata": {
    "id": "61C_gxJo5aRH"
   },
   "outputs": [],
   "source": [
    "# Required imports\n",
    "import os\n",
    "import json\n",
    "import shutil\n",
    "import logging\n",
    "import sys\n",
    "import torch\n",
    "from pathlib import Path\n",
    "import speechbrain as sb\n",
    "from hyperpyyaml import load_hyperpyyaml\n",
    "from speechbrain.utils.data_utils import get_all_files, download_file\n",
    "from speechbrain.dataio.dataio import read_audio\n",
    "from speechbrain.utils.distributed import run_on_main, if_main_process\n",
    "\n",
    "# Required variables and loggers\n",
    "logger = logging.getLogger(__name__)\n",
    "logger = logging.getLogger(__name__)\n",
    "MINILIBRI_TRAIN_URL = \"http://www.openslr.org/resources/31/train-clean-5.tar.gz\"\n",
    "MINILIBRI_VALID_URL = \"http://www.openslr.org/resources/31/dev-clean-2.tar.gz\"\n",
    "MINILIBRI_TEST_URL = \"https://www.openslr.org/resources/12/test-clean.tar.gz\"\n",
    "SAMPLERATE = 16000\n",
    "\n",
    "\n",
    "device=\"cuda\"\n",
    "run_opts = {'device':device}"
   ]
  },
  {
   "cell_type": "markdown",
   "metadata": {
    "id": "rtdr1VnyCQTJ"
   },
   "source": [
    "### Tokenizer Training\n",
    "In this section, we will train a BPE tokenizer with **150 tokens** using `Sentencepiece`.\n",
    "\n"
   ]
  },
  {
   "cell_type": "code",
   "execution_count": 3,
   "metadata": {
    "id": "ujToJHWC4T5y"
   },
   "outputs": [],
   "source": [
    "# ############################################################################\n",
    "# Dataset creation helper functions\n",
    "# ############################################################################\n",
    "\n",
    "def prepare_mini_librispeech(\n",
    "    data_folder, save_json_train, save_json_valid, save_json_test\n",
    "):\n",
    "    \"\"\"\n",
    "    Prepares the json files for the Mini Librispeech dataset.\n",
    "    Downloads the dataset if its not found in the `data_folder`.\n",
    "    \"\"\"\n",
    "\n",
    "    # Check if this phase is already done (if so, skip it)\n",
    "    if skip(save_json_train, save_json_valid, save_json_test):\n",
    "        logger.info(\"Preparation completed in previous run, skipping.\")\n",
    "        return\n",
    "\n",
    "    # If the dataset doesn't exist yet, download it\n",
    "    train_folder = os.path.join(data_folder, \"LibriSpeech\", \"train-clean-5\")\n",
    "    valid_folder = os.path.join(data_folder, \"LibriSpeech\", \"dev-clean-2\")\n",
    "    test_folder = os.path.join(data_folder, \"LibriSpeech\", \"test-clean\")\n",
    "    if not check_folders(train_folder, valid_folder, test_folder):\n",
    "        download_mini_librispeech(data_folder)\n",
    "\n",
    "    # List files and create manifest from list\n",
    "    logger.info(\n",
    "        f\"Creating {save_json_train}, {save_json_valid}, and {save_json_test}\"\n",
    "    )\n",
    "    extension = [\".flac\"]\n",
    "\n",
    "    # List of flac audio files\n",
    "    wav_list_train = get_all_files(train_folder, match_and=extension)\n",
    "    wav_list_valid = get_all_files(valid_folder, match_and=extension)\n",
    "    wav_list_test = get_all_files(test_folder, match_and=extension)\n",
    "\n",
    "    # List of transcription file\n",
    "    extension = [\".trans.txt\"]\n",
    "    trans_list = get_all_files(data_folder, match_and=extension)\n",
    "    trans_dict = get_transcription(trans_list)\n",
    "\n",
    "    # Create the json files\n",
    "    create_json(wav_list_train, trans_dict, save_json_train)\n",
    "    create_json(wav_list_valid, trans_dict, save_json_valid)\n",
    "    create_json(wav_list_test, trans_dict, save_json_test)\n",
    "\n",
    "\n",
    "def get_transcription(trans_list):\n",
    "    \"\"\"\n",
    "    Returns a dictionary with the transcription of each sentence in the dataset.\n",
    "    \"\"\"\n",
    "    # Processing all the transcription files in the list\n",
    "    trans_dict = {}\n",
    "    for trans_file in trans_list:\n",
    "        # Reading the text file\n",
    "        with open(trans_file) as f:\n",
    "            for line in f:\n",
    "                uttid = line.split(\" \")[0]\n",
    "                text = line.rstrip().split(\" \")[1:]\n",
    "                text = \" \".join(text)\n",
    "                trans_dict[uttid] = text\n",
    "\n",
    "    logger.info(\"Transcription files read!\")\n",
    "    return trans_dict\n",
    "\n",
    "\n",
    "def create_json(wav_list, trans_dict, json_file):\n",
    "    \"\"\"\n",
    "    Creates the json file given a list of wav files and their transcriptions.\n",
    "    \"\"\"\n",
    "    # Processing all the wav files in the list\n",
    "    json_dict = {}\n",
    "    for wav_file in wav_list:\n",
    "\n",
    "        # Reading the signal (to retrieve duration in seconds)\n",
    "        signal = read_audio(wav_file)\n",
    "        duration = signal.shape[0] / SAMPLERATE\n",
    "\n",
    "        # Manipulate path to get relative path and uttid\n",
    "        path_parts = wav_file.split(os.path.sep)\n",
    "        uttid, _ = os.path.splitext(path_parts[-1])\n",
    "        relative_path = os.path.join(\"{data_root}\", *path_parts[-5:])\n",
    "\n",
    "        # Create entry for this utterance\n",
    "        json_dict[uttid] = {\n",
    "            \"wav\": relative_path,\n",
    "            \"length\": duration,\n",
    "            \"words\": trans_dict[uttid],\n",
    "        }\n",
    "\n",
    "    # Writing the dictionary to the json file\n",
    "    with open(json_file, mode=\"w\") as json_f:\n",
    "        json.dump(json_dict, json_f, indent=2)\n",
    "\n",
    "    logger.info(f\"{json_file} successfully created!\")\n",
    "\n",
    "\n",
    "def skip(*filenames):\n",
    "    \"\"\"\n",
    "    Detects if the data preparation has been already done.\n",
    "    If the preparation has been done, we can skip it.\n",
    "    \"\"\"\n",
    "    for filename in filenames:\n",
    "        if not os.path.isfile(filename):\n",
    "            return False\n",
    "    return True\n",
    "\n",
    "\n",
    "def check_folders(*folders):\n",
    "    \"\"\"Returns False if any passed folder does not exist.\"\"\"\n",
    "    for folder in folders:\n",
    "        if not os.path.exists(folder):\n",
    "            return False\n",
    "    return True\n",
    "\n",
    "\n",
    "def download_mini_librispeech(destination):\n",
    "    \"\"\"Download dataset and unpack it.\n",
    "    \"\"\"\n",
    "    train_archive = os.path.join(destination, \"train-clean-5.tar.gz\")\n",
    "    valid_archive = os.path.join(destination, \"dev-clean-2.tar.gz\")\n",
    "    test_archive = os.path.join(destination, \"test-clean.tar.gz\")\n",
    "    download_file(MINILIBRI_TRAIN_URL, train_archive)\n",
    "    download_file(MINILIBRI_VALID_URL, valid_archive)\n",
    "    download_file(MINILIBRI_TEST_URL, test_archive)\n",
    "    shutil.unpack_archive(train_archive, destination)\n",
    "    shutil.unpack_archive(valid_archive, destination)\n",
    "    shutil.unpack_archive(test_archive, destination)"
   ]
  },
  {
   "cell_type": "code",
   "execution_count": 4,
   "metadata": {
    "id": "rz9pyHan4V0S"
   },
   "outputs": [],
   "source": [
    "tokenizer_hyperparams = \"\"\"\n",
    "# ############################################################################\n",
    "# Tokenizer: subword BPE with unigram 150\n",
    "# ############################################################################\n",
    "\n",
    "output_folder: !ref results/tokenizer/\n",
    "\n",
    "# Data files\n",
    "data_folder: data\n",
    "train_annotation: !ref <data_folder>/train.json\n",
    "valid_annotation: !ref <data_folder>/valid.json\n",
    "test_annotation: !ref <data_folder>/test.json\n",
    "\n",
    "# Tokenizer training parameters\n",
    "token_type: unigram  # [\"unigram\", \"bpe\", \"char\"]\n",
    "token_output: 150  # index(blank/eos/bos/unk) = 0\n",
    "character_coverage: 1.0\n",
    "json_read: words\n",
    "\n",
    "tokenizer: !name:speechbrain.tokenizers.SentencePiece.SentencePiece\n",
    "   model_dir: !ref <output_folder>\n",
    "   vocab_size: !ref <token_output>\n",
    "   annotation_train: !ref <train_annotation>\n",
    "   annotation_read: !ref <json_read>\n",
    "   annotation_format: json\n",
    "   model_type: !ref <token_type> # [\"unigram\", \"bpe\", \"char\"]\n",
    "   character_coverage: !ref <character_coverage>\n",
    "   annotation_list_to_check: [!ref <train_annotation>, !ref <valid_annotation>]\n",
    "\n",
    "\"\"\""
   ]
  },
  {
   "cell_type": "code",
   "execution_count": 5,
   "metadata": {
    "id": "nA8xD6Do4Xl7"
   },
   "outputs": [
    {
     "name": "stdout",
     "output_type": "stream",
     "text": [
      "speechbrain.core - Beginning experiment!\n",
      "speechbrain.core - Experiment folder: results/tokenizer/\n",
      "Downloading http://www.openslr.org/resources/31/train-clean-5.tar.gz to data/train-clean-5.tar.gz\n"
     ]
    },
    {
     "name": "stderr",
     "output_type": "stream",
     "text": [
      "train-clean-5.tar.gz: 333MB [00:29, 11.3MB/s]                                                                                  \n"
     ]
    },
    {
     "name": "stdout",
     "output_type": "stream",
     "text": [
      "Downloading http://www.openslr.org/resources/31/dev-clean-2.tar.gz to data/dev-clean-2.tar.gz\n"
     ]
    },
    {
     "name": "stderr",
     "output_type": "stream",
     "text": [
      "dev-clean-2.tar.gz: 126MB [00:12, 10.4MB/s]                                                                                    \n"
     ]
    },
    {
     "name": "stdout",
     "output_type": "stream",
     "text": [
      "Downloading https://www.openslr.org/resources/12/test-clean.tar.gz to data/test-clean.tar.gz\n"
     ]
    },
    {
     "name": "stderr",
     "output_type": "stream",
     "text": [
      "test-clean.tar.gz: 347MB [00:30, 11.2MB/s]                                                                                     \n"
     ]
    },
    {
     "name": "stdout",
     "output_type": "stream",
     "text": [
      "__main__ - Creating data/train.json, data/valid.json, and data/test.json\n",
      "__main__ - Transcription files read!\n",
      "__main__ - data/train.json successfully created!\n",
      "__main__ - data/valid.json successfully created!\n",
      "__main__ - data/test.json successfully created!\n",
      "speechbrain.tokenizers.SentencePiece - Train tokenizer with type:unigram\n",
      "speechbrain.tokenizers.SentencePiece - Extract words sequences from:data/train.json\n",
      "speechbrain.tokenizers.SentencePiece - Text file created at: results/tokenizer/train.txt\n",
      "speechbrain.tokenizers.SentencePiece - ==== Loading Tokenizer ===\n",
      "speechbrain.tokenizers.SentencePiece - Tokenizer path: results/tokenizer/150_unigram.model\n",
      "speechbrain.tokenizers.SentencePiece - Tokenizer vocab_size: 150\n",
      "speechbrain.tokenizers.SentencePiece - Tokenizer type: unigram\n",
      "speechbrain.tokenizers.SentencePiece - ==== Accuracy checking for recovering text from tokenizer ===\n"
     ]
    },
    {
     "name": "stderr",
     "output_type": "stream",
     "text": [
      "sentencepiece_trainer.cc(177) LOG(INFO) Running command: --input=results/tokenizer/train.txt --model_prefix=results/tokenizer/150_unigram --model_type=unigram --bos_id=-1 --eos_id=-1 --pad_id=-1 --unk_id=0 --max_sentencepiece_length=10 --character_coverage=1.0 --add_dummy_prefix=True --vocab_size=150\n",
      "sentencepiece_trainer.cc(77) LOG(INFO) Starts training with : \n",
      "trainer_spec {\n",
      "  input: results/tokenizer/train.txt\n",
      "  input_format: \n",
      "  model_prefix: results/tokenizer/150_unigram\n",
      "  model_type: UNIGRAM\n",
      "  vocab_size: 150\n",
      "  self_test_sample_size: 0\n",
      "  character_coverage: 1\n",
      "  input_sentence_size: 0\n",
      "  shuffle_input_sentence: 1\n",
      "  seed_sentencepiece_size: 1000000\n",
      "  shrinking_factor: 0.75\n",
      "  max_sentence_length: 4192\n",
      "  num_threads: 16\n",
      "  num_sub_iterations: 2\n",
      "  max_sentencepiece_length: 10\n",
      "  split_by_unicode_script: 1\n",
      "  split_by_number: 1\n",
      "  split_by_whitespace: 1\n",
      "  split_digits: 0\n",
      "  pretokenization_delimiter: \n",
      "  treat_whitespace_as_suffix: 0\n",
      "  allow_whitespace_only_pieces: 0\n",
      "  required_chars: \n",
      "  byte_fallback: 0\n",
      "  vocabulary_output_piece_score: 1\n",
      "  train_extremely_large_corpus: 0\n",
      "  hard_vocab_limit: 1\n",
      "  use_all_vocab: 0\n",
      "  unk_id: 0\n",
      "  bos_id: -1\n",
      "  eos_id: -1\n",
      "  pad_id: -1\n",
      "  unk_piece: <unk>\n",
      "  bos_piece: <s>\n",
      "  eos_piece: </s>\n",
      "  pad_piece: <pad>\n",
      "  unk_surface:  ⁇ \n",
      "  enable_differential_privacy: 0\n",
      "  differential_privacy_noise_level: 0\n",
      "  differential_privacy_clipping_threshold: 0\n",
      "}\n",
      "normalizer_spec {\n",
      "  name: nmt_nfkc\n",
      "  add_dummy_prefix: 1\n",
      "  remove_extra_whitespaces: 1\n",
      "  escape_whitespaces: 1\n",
      "  normalization_rule_tsv: \n",
      "}\n",
      "denormalizer_spec {}\n",
      "trainer_interface.cc(351) LOG(INFO) SentenceIterator is not specified. Using MultiFileSentenceIterator.\n",
      "trainer_interface.cc(183) LOG(INFO) Loading corpus: results/tokenizer/train.txt\n",
      "trainer_interface.cc(407) LOG(INFO) Loaded all 1519 sentences\n",
      "trainer_interface.cc(423) LOG(INFO) Adding meta_piece: <unk>\n",
      "trainer_interface.cc(428) LOG(INFO) Normalizing sentences...\n",
      "trainer_interface.cc(537) LOG(INFO) all chars count=281212\n",
      "trainer_interface.cc(558) LOG(INFO) Alphabet size=28\n",
      "trainer_interface.cc(559) LOG(INFO) Final character coverage=1\n",
      "trainer_interface.cc(591) LOG(INFO) Done! preprocessed 1519 sentences.\n",
      "unigram_model_trainer.cc(247) LOG(INFO) Making suffix array...\n",
      "unigram_model_trainer.cc(251) LOG(INFO) Extracting frequent sub strings... node_num=143660\n",
      "unigram_model_trainer.cc(301) LOG(INFO) Initialized 21862 seed sentencepieces\n",
      "trainer_interface.cc(597) LOG(INFO) Tokenizing input sentences with whitespace: 1519\n",
      "trainer_interface.cc(608) LOG(INFO) Done! 7230\n",
      "unigram_model_trainer.cc(607) LOG(INFO) Using 7230 sentences for EM training\n",
      "unigram_model_trainer.cc(623) LOG(INFO) EM sub_iter=0 size=5525 obj=11.4707 num_tokens=14950 num_tokens/piece=2.70588\n",
      "unigram_model_trainer.cc(623) LOG(INFO) EM sub_iter=1 size=4978 obj=8.05265 num_tokens=13779 num_tokens/piece=2.76798\n",
      "unigram_model_trainer.cc(623) LOG(INFO) EM sub_iter=0 size=3732 obj=7.92615 num_tokens=15128 num_tokens/piece=4.05359\n",
      "unigram_model_trainer.cc(623) LOG(INFO) EM sub_iter=1 size=3727 obj=7.84039 num_tokens=15128 num_tokens/piece=4.05903\n",
      "unigram_model_trainer.cc(623) LOG(INFO) EM sub_iter=0 size=2795 obj=8.20349 num_tokens=17169 num_tokens/piece=6.14275\n",
      "unigram_model_trainer.cc(623) LOG(INFO) EM sub_iter=1 size=2794 obj=8.12796 num_tokens=17171 num_tokens/piece=6.14567\n",
      "unigram_model_trainer.cc(623) LOG(INFO) EM sub_iter=0 size=2095 obj=8.60462 num_tokens=19577 num_tokens/piece=9.34463\n",
      "unigram_model_trainer.cc(623) LOG(INFO) EM sub_iter=1 size=2095 obj=8.52756 num_tokens=19579 num_tokens/piece=9.34558\n",
      "unigram_model_trainer.cc(623) LOG(INFO) EM sub_iter=0 size=1571 obj=9.07475 num_tokens=21860 num_tokens/piece=13.9147\n",
      "unigram_model_trainer.cc(623) LOG(INFO) EM sub_iter=1 size=1571 obj=9.0096 num_tokens=21868 num_tokens/piece=13.9198\n",
      "unigram_model_trainer.cc(623) LOG(INFO) EM sub_iter=0 size=1178 obj=9.66684 num_tokens=24151 num_tokens/piece=20.5017\n",
      "unigram_model_trainer.cc(623) LOG(INFO) EM sub_iter=1 size=1178 obj=9.59504 num_tokens=24152 num_tokens/piece=20.5025\n",
      "unigram_model_trainer.cc(623) LOG(INFO) EM sub_iter=0 size=883 obj=10.3004 num_tokens=26360 num_tokens/piece=29.8528\n",
      "unigram_model_trainer.cc(623) LOG(INFO) EM sub_iter=1 size=883 obj=10.2183 num_tokens=26364 num_tokens/piece=29.8573\n",
      "unigram_model_trainer.cc(623) LOG(INFO) EM sub_iter=0 size=662 obj=11.0592 num_tokens=28801 num_tokens/piece=43.506\n",
      "unigram_model_trainer.cc(623) LOG(INFO) EM sub_iter=1 size=662 obj=10.9654 num_tokens=28813 num_tokens/piece=43.5242\n",
      "unigram_model_trainer.cc(623) LOG(INFO) EM sub_iter=0 size=496 obj=11.9396 num_tokens=31630 num_tokens/piece=63.7702\n",
      "unigram_model_trainer.cc(623) LOG(INFO) EM sub_iter=1 size=496 obj=11.8184 num_tokens=31649 num_tokens/piece=63.8085\n",
      "unigram_model_trainer.cc(623) LOG(INFO) EM sub_iter=0 size=372 obj=13.1149 num_tokens=33707 num_tokens/piece=90.6102\n",
      "unigram_model_trainer.cc(623) LOG(INFO) EM sub_iter=1 size=372 obj=13.0209 num_tokens=33757 num_tokens/piece=90.7446\n",
      "unigram_model_trainer.cc(623) LOG(INFO) EM sub_iter=0 size=279 obj=14.3279 num_tokens=35847 num_tokens/piece=128.484\n",
      "unigram_model_trainer.cc(623) LOG(INFO) EM sub_iter=1 size=279 obj=14.2495 num_tokens=35859 num_tokens/piece=128.527\n",
      "unigram_model_trainer.cc(623) LOG(INFO) EM sub_iter=0 size=209 obj=16.095 num_tokens=38013 num_tokens/piece=181.88\n",
      "unigram_model_trainer.cc(623) LOG(INFO) EM sub_iter=1 size=209 obj=16.0195 num_tokens=38020 num_tokens/piece=181.914\n",
      "unigram_model_trainer.cc(623) LOG(INFO) EM sub_iter=0 size=165 obj=18.2561 num_tokens=41004 num_tokens/piece=248.509\n",
      "unigram_model_trainer.cc(623) LOG(INFO) EM sub_iter=1 size=165 obj=18.1545 num_tokens=41050 num_tokens/piece=248.788\n",
      "trainer_interface.cc(686) LOG(INFO) Saving model: results/tokenizer/150_unigram.model\n",
      "trainer_interface.cc(698) LOG(INFO) Saving vocabs: results/tokenizer/150_unigram.vocab\n"
     ]
    },
    {
     "name": "stdout",
     "output_type": "stream",
     "text": [
      "speechbrain.tokenizers.SentencePiece - recover words from: data/train.json\n",
      "speechbrain.tokenizers.SentencePiece - Wrong recover words: 0\n",
      "speechbrain.tokenizers.SentencePiece - accuracy recovering words: 1.0\n",
      "speechbrain.tokenizers.SentencePiece - ==== Accuracy checking for recovering text from tokenizer ===\n",
      "speechbrain.tokenizers.SentencePiece - recover words from: data/valid.json\n",
      "speechbrain.tokenizers.SentencePiece - Wrong recover words: 0\n",
      "speechbrain.tokenizers.SentencePiece - accuracy recovering words: 1.0\n"
     ]
    },
    {
     "data": {
      "text/plain": [
       "'results/tokenizer//tokenizer.ckpt'"
      ]
     },
     "execution_count": 5,
     "metadata": {},
     "output_type": "execute_result"
    }
   ],
   "source": [
    "# load required params from the hyperpyyaml file\n",
    "hparams = load_hyperpyyaml(tokenizer_hyperparams)\n",
    "\n",
    "# 1. Dataset creation\n",
    "\n",
    "## Create experiment directory\n",
    "sb.create_experiment_directory(\n",
    "    experiment_directory=hparams[\"output_folder\"],\n",
    "    overrides=None,\n",
    ")\n",
    "\n",
    "## Create dataset\n",
    "run_on_main(\n",
    "    prepare_mini_librispeech,\n",
    "    kwargs={\n",
    "        \"data_folder\": hparams[\"data_folder\"],\n",
    "        \"save_json_train\": hparams[\"train_annotation\"],\n",
    "        \"save_json_valid\": hparams[\"valid_annotation\"],\n",
    "        \"save_json_test\": hparams[\"test_annotation\"],\n",
    "    },\n",
    ")\n",
    "\n",
    "# 2. Tokenizer training\n",
    "hparams[\"tokenizer\"]()\n",
    "\n",
    "# 3. Saving tokenizer in .ckpt extension\n",
    "output_path = hparams[\"output_folder\"]\n",
    "token_output = hparams[\"token_output\"]\n",
    "token_type = hparams[\"token_type\"]\n",
    "bpe_model = f\"{output_path}/{token_output}_{token_type}.model\"\n",
    "tokenizer_ckpt = f\"{output_path}/tokenizer.ckpt\"\n",
    "shutil.copyfile(bpe_model, tokenizer_ckpt)"
   ]
  },
  {
   "cell_type": "markdown",
   "metadata": {
    "id": "vwqFx3QcOdd3"
   },
   "source": [
    "### Model Training\n",
    "In this section, we will train a **6 layer Conformer** encoder only architecture with the `CTC objective`."
   ]
  },
  {
   "cell_type": "code",
   "execution_count": 6,
   "metadata": {
    "id": "6WPcwXueCRm7"
   },
   "outputs": [],
   "source": [
    "global_hyperparams = \"\"\"\n",
    "# Seed needs to be set at top of yaml, before objects with parameters are made\n",
    "seed: 2024\n",
    "__set_seed: !apply:torch.manual_seed [!ref <seed>]\n",
    "\n",
    "# Data files\n",
    "data_folder: data\n",
    "\n",
    "####TASK ADD APPROPRIATE REFERENCES TO LOAD THE FILES ##############\n",
    "\n",
    "train_annotation: !ref <data_folder>/train.json\n",
    "valid_annotation: !ref <data_folder>/valid.json\n",
    "test_annotation: !ref <data_folder>/test.json\n",
    "#####################################################################\n",
    "\n",
    "# Language model (LM) pretraining\n",
    "pretrained_lm_tokenizer_path: ./results/tokenizer\n",
    "\n",
    "# Training parameters\n",
    "number_of_epochs: 30\n",
    "batch_size: 8\n",
    "lr_adam: 0.01\n",
    "max_grad_norm: 5.0\n",
    "ckpt_interval_minutes: 15 # save checkpoint every N min\n",
    "loss_reduction: 'batchmean'\n",
    "\n",
    "# Dataloader options\n",
    "train_dataloader_opts:\n",
    "    batch_size: !ref <batch_size>\n",
    "\n",
    "valid_dataloader_opts:\n",
    "    batch_size: !ref <batch_size>\n",
    "\n",
    "test_dataloader_opts:\n",
    "    batch_size: !ref <batch_size>\n",
    "\n",
    "# Feature parameters\n",
    "sample_rate: 16000\n",
    "n_fft: 400\n",
    "n_mels: 40\n",
    "\n",
    "####################### Model parameters ###########################\n",
    "# Transformer\n",
    "d_model: 128 #64\n",
    "nhead: 4 #4\n",
    "num_encoder_layers: 6\n",
    "d_ffn: 512 #256\n",
    "transformer_dropout: 0.1\n",
    "activation: !name:torch.nn.GELU\n",
    "output_neurons: 150\n",
    "label_smoothing: 0.0\n",
    "attention_type: RelPosMHAXL\n",
    "\n",
    "# Outputs\n",
    "blank_index: 0\n",
    "pad_index: 0\n",
    "bos_index: 1\n",
    "eos_index: 2\n",
    "\n",
    "# Decoding parameters\n",
    "min_decode_ratio: 0.0\n",
    "max_decode_ratio: 1.0\n",
    "test_beam_size: 1\n",
    "ctc_weight_decode: 1.0\n",
    "\n",
    "############################## models ################################\n",
    "\n",
    "compute_features: !new:speechbrain.lobes.features.Fbank\n",
    "    sample_rate: !ref <sample_rate>\n",
    "    n_fft: !ref <n_fft>\n",
    "    n_mels: !ref <n_mels>\n",
    "\n",
    "CNN: !new:speechbrain.lobes.models.convolution.ConvolutionFrontEnd\n",
    "    input_shape: (8, 10, 40)\n",
    "    num_blocks: 2\n",
    "    num_layers_per_block: 1\n",
    "    out_channels: (64, 32)\n",
    "    kernel_sizes: (3, 3)\n",
    "    strides: (2, 2)\n",
    "    residuals: (False, False)\n",
    "\n",
    "# standard parameters for the BASE model\n",
    "Transformer: !new:speechbrain.lobes.models.transformer.TransformerASR.TransformerASR\n",
    "    input_size: 320 #640\n",
    "    tgt_vocab: !ref <output_neurons>\n",
    "    d_model: !ref <d_model>\n",
    "    nhead: !ref <nhead>\n",
    "    num_encoder_layers: !ref <num_encoder_layers>\n",
    "    num_decoder_layers: 6\n",
    "    d_ffn: !ref <d_ffn>\n",
    "    dropout: !ref <transformer_dropout>\n",
    "    activation: !ref <activation>\n",
    "    encoder_module: conformer\n",
    "    attention_type: !ref <attention_type>\n",
    "    normalize_before: True\n",
    "\n",
    "tokenizer: !new:sentencepiece.SentencePieceProcessor\n",
    "\n",
    "ctc_lin: !new:speechbrain.nnet.linear.Linear\n",
    "    input_size: !ref <d_model>\n",
    "    n_neurons: !ref <output_neurons>\n",
    "\n",
    "normalize: !new:speechbrain.processing.features.InputNormalization\n",
    "    norm_type: global\n",
    "    update_until_epoch: 4\n",
    "\n",
    "modules:\n",
    "    CNN: !ref <CNN>\n",
    "    Transformer: !ref <Transformer>\n",
    "    ctc_lin: !ref <ctc_lin>\n",
    "    normalize: !ref <normalize>\n",
    "\n",
    "model: !new:torch.nn.ModuleList\n",
    "    - [!ref <CNN>, !ref <Transformer>, !ref <ctc_lin>]\n",
    "\n",
    "# define two optimizers here for two-stage training\n",
    "Adam: !name:torch.optim.Adam\n",
    "    lr: !ref <lr_adam>\n",
    "    betas: (0.9, 0.98)\n",
    "    eps: 0.000000001\n",
    "\n",
    "log_softmax: !new:torch.nn.LogSoftmax\n",
    "    dim: -1\n",
    "\n",
    "ctc_cost: !name:speechbrain.nnet.losses.ctc_loss\n",
    "    blank_index: !ref <blank_index>\n",
    "    reduction: !ref <loss_reduction>\n",
    "\n",
    "noam_annealing: !new:speechbrain.nnet.schedulers.NoamScheduler\n",
    "    lr_initial: !ref <lr_adam>\n",
    "    n_warmup_steps: 150\n",
    "\n",
    "epoch_counter: !new:speechbrain.utils.epoch_loop.EpochCounter\n",
    "    limit: !ref <number_of_epochs>\n",
    "\n",
    "error_rate_computer: !name:speechbrain.utils.metric_stats.ErrorRateStats\n",
    "\n",
    "cer_computer: !name:speechbrain.utils.metric_stats.ErrorRateStats\n",
    "   split_tokens: True\n",
    "\n",
    "# The pretrainer allows a mapping between pretrained files and instances that\n",
    "# are declared in the yaml. E.g here, we will download the file tokenizer.ckpt\n",
    "# and it will be loaded into \"tokenizer\" which is pointing to the <pretrained_lm_tokenizer_path> defined\n",
    "# before.\n",
    "pretrainer: !new:speechbrain.utils.parameter_transfer.Pretrainer\n",
    "    loadables:\n",
    "        tokenizer: !ref <tokenizer>\n",
    "    paths:\n",
    "        tokenizer: !ref <pretrained_lm_tokenizer_path>/tokenizer.ckpt\n",
    "\"\"\""
   ]
  },
  {
   "cell_type": "code",
   "execution_count": 7,
   "metadata": {
    "id": "euJMqDLSWv7Y"
   },
   "outputs": [],
   "source": [
    "def dataio_prepare(hparams):\n",
    "    \"\"\"This function prepares the datasets to be used in the brain class.\n",
    "    It also defines the data processing pipeline through user-defined functions.\n",
    "    \"\"\"\n",
    "    # Define audio pipeline. In this case, we simply read the path contained\n",
    "    # in the variable wav with the audio reader.\n",
    "    @sb.utils.data_pipeline.takes(\"wav\")\n",
    "    @sb.utils.data_pipeline.provides(\"sig\")\n",
    "    def audio_pipeline(wav):\n",
    "        \"\"\"Load the audio signal. This is done on the CPU in the `collate_fn`.\"\"\"\n",
    "        sig = sb.dataio.dataio.read_audio(wav)\n",
    "        return sig\n",
    "\n",
    "    tokenizer = hparams[\"tokenizer\"]\n",
    "    # Define text processing pipeline. We start from the raw text and then\n",
    "    # encode it using the tokenizer. The tokens with BOS are used for feeding\n",
    "    # decoder during training, the tokens with EOS for computing the cost function.\n",
    "    # The tokens without BOS or EOS is for computing CTC loss.\n",
    "    @sb.utils.data_pipeline.takes(\"words\")\n",
    "    @sb.utils.data_pipeline.provides(\n",
    "        \"wrd\", \"tokens_list\", \"tokens_bos\", \"tokens_eos\", \"tokens\"\n",
    "    )\n",
    "    def text_pipeline(wrd):\n",
    "        \"\"\"Processes the transcriptions to generate proper labels\"\"\"\n",
    "        yield wrd\n",
    "        tokens_list = tokenizer.encode_as_ids(wrd)\n",
    "        yield tokens_list\n",
    "        tokens_bos = torch.LongTensor([hparams[\"bos_index\"]] + (tokens_list))\n",
    "        yield tokens_bos\n",
    "        tokens_eos = torch.LongTensor(tokens_list + [hparams[\"eos_index\"]])\n",
    "        yield tokens_eos\n",
    "        tokens = torch.LongTensor(tokens_list)\n",
    "        yield tokens\n",
    "\n",
    "    # Define datasets from json data manifest file\n",
    "    # Define datasets sorted by ascending lengths for efficiency\n",
    "    datasets = {}\n",
    "    data_folder = hparams[\"data_folder\"]\n",
    "    for dataset in [\"train\", \"valid\", \"test\"]:\n",
    "        datasets[dataset] = sb.dataio.dataset.DynamicItemDataset.from_json(\n",
    "            json_path=hparams[f\"{dataset}_annotation\"],\n",
    "            replacements={\"data_root\": data_folder},\n",
    "            dynamic_items=[audio_pipeline, text_pipeline],\n",
    "            output_keys=[\n",
    "                \"id\",\n",
    "                \"sig\",\n",
    "                \"wrd\",\n",
    "                \"tokens_bos\",\n",
    "                \"tokens_eos\",\n",
    "                \"tokens\",\n",
    "            ],\n",
    "        )\n",
    "        hparams[f\"{dataset}_dataloader_opts\"][\"shuffle\"] = False\n",
    "\n",
    "    datasets[\"train\"] = datasets[\"train\"].filtered_sorted(sort_key=\"length\")\n",
    "    hparams[\"train_dataloader_opts\"][\"shuffle\"] = False\n",
    "\n",
    "    return (\n",
    "        datasets[\"train\"],\n",
    "        datasets[\"valid\"],\n",
    "        datasets[\"test\"],\n",
    "        tokenizer\n",
    "    )"
   ]
  },
  {
   "cell_type": "code",
   "execution_count": 8,
   "metadata": {
    "id": "wUEBBUOQZ4V-"
   },
   "outputs": [],
   "source": [
    "# Define training procedure\n",
    "class BaseASR(sb.Brain):\n",
    "    def __init__(\n",
    "        self,\n",
    "        modules=None,\n",
    "        opt_class=None,\n",
    "        hparams=None,\n",
    "        run_opts=None,\n",
    "        checkpointer=None,\n",
    "        profiler=None,\n",
    "        tokenizer=None,\n",
    "    ):\n",
    "        super(BaseASR, self).__init__(\n",
    "            modules=modules,\n",
    "            opt_class=opt_class,\n",
    "            hparams=hparams,\n",
    "            run_opts=run_opts,\n",
    "            checkpointer=checkpointer,\n",
    "            profiler=profiler\n",
    "        )\n",
    "        self.tokenizer = tokenizer\n",
    "\n",
    "    def compute_forward(self, batch, stage):\n",
    "        \"\"\"Performs a forward pass through the encoder\"\"\"\n",
    "        batch = batch.to(self.device)\n",
    "        wavs, wav_lens = batch.sig\n",
    "        tokens_bos, _ = batch.tokens_bos\n",
    "\n",
    "        # compute features\n",
    "        feats =  self.hparams.compute_features(wavs)\n",
    "        current_epoch = self.hparams.epoch_counter.current\n",
    "        feats = self.modules.normalize(feats, wav_lens, epoch=current_epoch)\n",
    "\n",
    "        # forward modules\n",
    "        src = self.modules.CNN(feats)\n",
    "\n",
    "        enc_out, _ = self.modules.Transformer(\n",
    "            src, tokens_bos, wav_lens, pad_idx=self.hparams.pad_index,\n",
    "        )\n",
    "\n",
    "        # output layer for ctc log-probabilities\n",
    "        logits = self.modules.ctc_lin(enc_out)\n",
    "        p_ctc = self.hparams.log_softmax(logits)\n",
    "\n",
    "        # Compute outputs\n",
    "        hyps = None\n",
    "        if stage == sb.Stage.TRAIN:\n",
    "            hyps = None\n",
    "        else:\n",
    "            hyps = sb.decoders.ctc_greedy_decode(\n",
    "                p_ctc, wav_lens, blank_id=self.hparams.blank_index\n",
    "            )\n",
    "\n",
    "        return p_ctc, wav_lens, hyps\n",
    "\n",
    "    def get_ctc_probs(self, batch):\n",
    "        batch = batch.to(self.device)\n",
    "        wavs, wav_lens = batch.sig\n",
    "        tokens_bos, _ = batch.tokens_bos\n",
    "\n",
    "        # compute features\n",
    "        feats = self.hparams.compute_features(wavs)\n",
    "        current_epoch = self.hparams.epoch_counter.current\n",
    "        feats = self.modules.normalize(feats, wav_lens, epoch=current_epoch)\n",
    "\n",
    "        # forward modules\n",
    "        src = self.modules.CNN(feats)\n",
    "\n",
    "        enc_out, _ = self.modules.Transformer(\n",
    "            src, tokens_bos, wav_lens, pad_idx=self.hparams.pad_index,\n",
    "        )\n",
    "\n",
    "        logits = self.modules.ctc_lin(enc_out)\n",
    "\n",
    "        return logits\n",
    "\n",
    "    def compute_objectives(self, predictions, batch, stage):\n",
    "        \"\"\"Computes the CTC loss given predictions and targets.\"\"\"\n",
    "\n",
    "        (p_ctc, wav_lens, hyps,) = predictions\n",
    "\n",
    "        ids = batch.id\n",
    "        tokens_eos, tokens_eos_lens = batch.tokens_eos\n",
    "        tokens, tokens_lens = batch.tokens\n",
    "\n",
    "        # Calculate CTC loss\n",
    "        loss = self.hparams.ctc_cost(p_ctc, tokens, wav_lens, tokens_lens)\n",
    "        \n",
    "        if stage != sb.Stage.TRAIN:\n",
    "            # Decode token terms to words\n",
    "            predicted_words = [\n",
    "                self.tokenizer.decode_ids(utt_seq).split(\" \") for utt_seq in hyps\n",
    "            ]\n",
    "            target_words = [wrd.split(\" \") for wrd in batch.wrd]\n",
    "            self.wer_metric.append(ids, predicted_words, target_words)\n",
    "            self.cer_metric.append(ids, predicted_words, target_words)\n",
    "\n",
    "        return loss\n",
    "\n",
    "    def on_evaluate_start(self, max_key=None, min_key=None):\n",
    "        \"\"\"Performs checkpoint averge if needed\"\"\"\n",
    "        super().on_evaluate_start()\n",
    "\n",
    "        ckpts = self.checkpointer.find_checkpoints(\n",
    "            max_key=max_key, min_key=min_key\n",
    "        )\n",
    "        ckpt = sb.utils.checkpoints.average_checkpoints(\n",
    "            ckpts, recoverable_name=\"model\", device=self.device\n",
    "        )\n",
    "\n",
    "        self.hparams.model.load_state_dict(ckpt, strict=True)\n",
    "        self.hparams.model.eval()\n",
    "        print(\"Loaded the average\")\n",
    "\n",
    "    def evaluate_batch(self, batch, stage):\n",
    "        \"\"\"Computations needed for validation/test batches\"\"\"\n",
    "        with torch.no_grad():\n",
    "            predictions = self.compute_forward(batch, stage=stage)\n",
    "            loss = self.compute_objectives(predictions, batch, stage=stage)\n",
    "        return loss.detach()\n",
    "\n",
    "    def on_stage_start(self, stage, epoch):\n",
    "        \"\"\"Gets called at the beginning of each epoch\"\"\"\n",
    "        if stage != sb.Stage.TRAIN:\n",
    "            self.cer_metric = self.hparams.cer_computer()\n",
    "            self.wer_metric = self.hparams.error_rate_computer()\n",
    "\n",
    "    def on_stage_end(self, stage, stage_loss, epoch):\n",
    "        \"\"\"Gets called at the end of a epoch.\"\"\"\n",
    "        # Compute/store important stats\n",
    "        stage_stats = {\"loss\": stage_loss}\n",
    "        if stage == sb.Stage.TRAIN:\n",
    "            self.train_stats = stage_stats\n",
    "        else:\n",
    "            stage_stats[\"CER\"] = self.cer_metric.summarize(\"error_rate\")\n",
    "            stage_stats[\"WER\"] = self.wer_metric.summarize(\"error_rate\")\n",
    "\n",
    "        # log stats and save checkpoint at end-of-epoch\n",
    "        if stage == sb.Stage.VALID and sb.utils.distributed.if_main_process():\n",
    "\n",
    "            lr = self.hparams.noam_annealing.current_lr\n",
    "            steps = self.optimizer_step\n",
    "            optimizer = self.optimizer.__class__.__name__\n",
    "\n",
    "            epoch_stats = {\n",
    "                \"epoch\": epoch,\n",
    "                \"lr\": lr,\n",
    "                \"steps\": steps,\n",
    "                \"optimizer\": optimizer,\n",
    "            }\n",
    "            self.hparams.train_logger.log_stats(\n",
    "                stats_meta=epoch_stats,\n",
    "                train_stats=self.train_stats,\n",
    "                valid_stats=stage_stats,\n",
    "            )\n",
    "            # Save only last 10 checkpoints\n",
    "            self.checkpointer.save_and_keep_only(\n",
    "                meta={\"loss\": stage_loss, \"epoch\": epoch},\n",
    "                max_keys=[\"epoch\"],\n",
    "                num_to_keep=10,\n",
    "            )\n",
    "\n",
    "        elif stage == sb.Stage.TEST:\n",
    "            self.hparams.train_logger.log_stats(\n",
    "                stats_meta={\"Epoch loaded\": self.hparams.epoch_counter.current},\n",
    "                test_stats=stage_stats,\n",
    "            )\n",
    "            # Write the WER metric for test dataset\n",
    "            if if_main_process():\n",
    "                with open(self.hparams.test_wer_file, \"w\") as w:\n",
    "                    self.wer_metric.write_stats(w)\n",
    "\n",
    "    def fit_batch(self, batch):\n",
    "        \"\"\"Performs a forward + backward pass on 1 batch\n",
    "        \"\"\"\n",
    "\n",
    "        should_step = self.step % self.grad_accumulation_factor == 0\n",
    "\n",
    "        outputs = self.compute_forward(batch, sb.Stage.TRAIN)\n",
    "        loss = self.compute_objectives(outputs, batch, sb.Stage.TRAIN)\n",
    "        loss.backward()\n",
    "        if self.check_gradients(loss):\n",
    "            self.optimizer.step()\n",
    "        self.zero_grad()\n",
    "        self.optimizer_step += 1\n",
    "        self.hparams.noam_annealing(self.optimizer)\n",
    "\n",
    "        self.on_fit_batch_end(batch, outputs, loss, should_step)\n",
    "        return loss.detach().cpu()"
   ]
  },
  {
   "cell_type": "code",
   "execution_count": 9,
   "metadata": {
    "id": "DDQEQ8M2MNAi"
   },
   "outputs": [],
   "source": [
    "task_hyperparameters = \"\"\"\n",
    "# Setup the directory to host experiment results\n",
    "output_folder: !ref results/transformer/Task_1\n",
    "wer_file: !ref <output_folder>/wer.txt\n",
    "save_folder: !ref <output_folder>/save\n",
    "train_log: !ref <output_folder>/train_log.txt\n",
    "\n",
    "train_logger: !new:speechbrain.utils.train_logger.FileTrainLogger\n",
    "    save_file: !ref <train_log>\n",
    "\n",
    "checkpointer: !new:speechbrain.utils.checkpoints.Checkpointer\n",
    "    checkpoints_dir: !ref <save_folder>\n",
    "    recoverables:\n",
    "        model: !ref <model>\n",
    "        noam_scheduler: !ref <noam_annealing>\n",
    "        normalizer: !ref <normalize>\n",
    "        counter: !ref <epoch_counter>\n",
    "\"\"\""
   ]
  },
  {
   "cell_type": "code",
   "execution_count": 10,
   "metadata": {
    "id": "tGonNC7u8hlJ"
   },
   "outputs": [
    {
     "name": "stdout",
     "output_type": "stream",
     "text": [
      "speechbrain.core - Beginning experiment!\n",
      "speechbrain.core - Experiment folder: results/transformer/Task_1\n",
      "speechbrain.pretrained.fetching - Destination tokenizer.ckpt: local file in /raid/nlp/pranavg/meet/ASR/Assignment-1/plot/speechbrain/results/tokenizer/tokenizer.ckpt.\n",
      "speechbrain.utils.parameter_transfer - Set local path in self.paths[tokenizer] = model_checkpoints/tokenizer.ckpt\n",
      "speechbrain.utils.parameter_transfer - Loading pretrained files for: tokenizer\n",
      "speechbrain.utils.parameter_transfer - Redirecting (loading from local path): model_checkpoints/tokenizer.ckpt -> model_checkpoints/tokenizer.ckpt\n",
      "speechbrain.core - Info: max_grad_norm arg from hparam file is used\n",
      "speechbrain.core - Info: ckpt_interval_minutes arg from hparam file is used\n",
      "speechbrain.core - 4.1M trainable parameters in BaseASR\n",
      "speechbrain.utils.checkpoints - Would load a checkpoint here, but none found yet.\n",
      "speechbrain.utils.epoch_loop - Going into epoch 1\n"
     ]
    },
    {
     "name": "stderr",
     "output_type": "stream",
     "text": [
      "  0%|                                                                                                  | 0/190 [00:00<?, ?it/s]/raid/nlp/pranavg/.local/lib/python3.8/site-packages/torch/nn/functional.py:5076: UserWarning: Support for mismatched key_padding_mask and attn_mask is deprecated. Use same type for both instead.\n",
      "  warnings.warn(\n",
      "100%|████████████████████████████████████████████████████████████████████████| 190/190 [01:29<00:00,  2.12it/s, train_loss=438]\n",
      "100%|████████████████████████████████████████████████████████████████████████████████████████| 137/137 [01:00<00:00,  2.25it/s]"
     ]
    },
    {
     "name": "stdout",
     "output_type": "stream",
     "text": [
      "speechbrain.utils.train_logger - epoch: 1, lr: 8.91e-03, steps: 190, optimizer: Adam - train loss: 4.38e+02 - valid loss: 2.32e+02, valid CER: 1.00e+02, valid WER: 1.00e+02\n",
      "speechbrain.utils.checkpoints - Saved an end-of-epoch checkpoint in results/transformer/Task_1/save/CKPT+2024-02-18+23-11-34+00\n",
      "speechbrain.utils.epoch_loop - Going into epoch 2\n"
     ]
    },
    {
     "name": "stderr",
     "output_type": "stream",
     "text": [
      "\n",
      "100%|████████████████████████████████████████████████████████████████████████| 190/190 [01:35<00:00,  1.99it/s, train_loss=433]\n",
      "100%|████████████████████████████████████████████████████████████████████████████████████████| 137/137 [00:53<00:00,  2.57it/s]"
     ]
    },
    {
     "name": "stdout",
     "output_type": "stream",
     "text": [
      "speechbrain.utils.train_logger - epoch: 2, lr: 6.29e-03, steps: 380, optimizer: Adam - train loss: 4.33e+02 - valid loss: 2.31e+02, valid CER: 1.00e+02, valid WER: 1.00e+02\n",
      "speechbrain.utils.checkpoints - Saved an end-of-epoch checkpoint in results/transformer/Task_1/save/CKPT+2024-02-18+23-14-03+00\n",
      "speechbrain.utils.epoch_loop - Going into epoch 3\n"
     ]
    },
    {
     "name": "stderr",
     "output_type": "stream",
     "text": [
      "\n",
      "100%|████████████████████████████████████████████████████████████████████████| 190/190 [01:32<00:00,  2.04it/s, train_loss=432]\n",
      "100%|████████████████████████████████████████████████████████████████████████████████████████| 137/137 [01:05<00:00,  2.09it/s]"
     ]
    },
    {
     "name": "stdout",
     "output_type": "stream",
     "text": [
      "speechbrain.utils.train_logger - epoch: 3, lr: 5.13e-03, steps: 570, optimizer: Adam - train loss: 4.32e+02 - valid loss: 2.32e+02, valid CER: 1.00e+02, valid WER: 1.00e+02\n",
      "speechbrain.utils.checkpoints - Saved an end-of-epoch checkpoint in results/transformer/Task_1/save/CKPT+2024-02-18+23-16-41+00\n",
      "speechbrain.utils.epoch_loop - Going into epoch 4\n"
     ]
    },
    {
     "name": "stderr",
     "output_type": "stream",
     "text": [
      "\n",
      "100%|████████████████████████████████████████████████████████████████████████| 190/190 [01:51<00:00,  1.71it/s, train_loss=431]\n",
      "100%|████████████████████████████████████████████████████████████████████████████████████████| 137/137 [01:11<00:00,  1.91it/s]"
     ]
    },
    {
     "name": "stdout",
     "output_type": "stream",
     "text": [
      "speechbrain.utils.train_logger - epoch: 4, lr: 4.45e-03, steps: 760, optimizer: Adam - train loss: 4.31e+02 - valid loss: 2.31e+02, valid CER: 1.00e+02, valid WER: 1.00e+02\n",
      "speechbrain.utils.checkpoints - Saved an end-of-epoch checkpoint in results/transformer/Task_1/save/CKPT+2024-02-18+23-19-45+00\n",
      "speechbrain.utils.epoch_loop - Going into epoch 5\n"
     ]
    },
    {
     "name": "stderr",
     "output_type": "stream",
     "text": [
      "\n",
      "100%|████████████████████████████████████████████████████████████████████████| 190/190 [01:48<00:00,  1.76it/s, train_loss=431]\n",
      "100%|████████████████████████████████████████████████████████████████████████████████████████| 137/137 [01:06<00:00,  2.06it/s]"
     ]
    },
    {
     "name": "stdout",
     "output_type": "stream",
     "text": [
      "speechbrain.utils.train_logger - epoch: 5, lr: 3.98e-03, steps: 950, optimizer: Adam - train loss: 4.31e+02 - valid loss: 2.31e+02, valid CER: 1.00e+02, valid WER: 1.00e+02\n",
      "speechbrain.utils.checkpoints - Saved an end-of-epoch checkpoint in results/transformer/Task_1/save/CKPT+2024-02-18+23-22-39+00\n",
      "speechbrain.utils.epoch_loop - Going into epoch 6\n"
     ]
    },
    {
     "name": "stderr",
     "output_type": "stream",
     "text": [
      "\n",
      "100%|████████████████████████████████████████████████████████████████████████| 190/190 [01:48<00:00,  1.76it/s, train_loss=431]\n",
      "100%|████████████████████████████████████████████████████████████████████████████████████████| 137/137 [01:02<00:00,  2.20it/s]"
     ]
    },
    {
     "name": "stdout",
     "output_type": "stream",
     "text": [
      "speechbrain.utils.train_logger - epoch: 6, lr: 3.63e-03, steps: 1140, optimizer: Adam - train loss: 4.31e+02 - valid loss: 2.31e+02, valid CER: 1.00e+02, valid WER: 1.00e+02\n",
      "speechbrain.utils.checkpoints - Saved an end-of-epoch checkpoint in results/transformer/Task_1/save/CKPT+2024-02-18+23-25-30+00\n",
      "speechbrain.utils.epoch_loop - Going into epoch 7\n"
     ]
    },
    {
     "name": "stderr",
     "output_type": "stream",
     "text": [
      "\n",
      "100%|████████████████████████████████████████████████████████████████████████| 190/190 [01:41<00:00,  1.88it/s, train_loss=431]\n",
      "100%|████████████████████████████████████████████████████████████████████████████████████████| 137/137 [01:08<00:00,  1.99it/s]"
     ]
    },
    {
     "name": "stdout",
     "output_type": "stream",
     "text": [
      "speechbrain.utils.train_logger - epoch: 7, lr: 3.36e-03, steps: 1330, optimizer: Adam - train loss: 4.31e+02 - valid loss: 2.31e+02, valid CER: 1.00e+02, valid WER: 1.00e+02\n",
      "speechbrain.utils.checkpoints - Saved an end-of-epoch checkpoint in results/transformer/Task_1/save/CKPT+2024-02-18+23-28-20+00\n",
      "speechbrain.utils.epoch_loop - Going into epoch 8\n"
     ]
    },
    {
     "name": "stderr",
     "output_type": "stream",
     "text": [
      "\n",
      "100%|████████████████████████████████████████████████████████████████████████| 190/190 [01:30<00:00,  2.11it/s, train_loss=431]\n",
      "100%|████████████████████████████████████████████████████████████████████████████████████████| 137/137 [00:49<00:00,  2.79it/s]"
     ]
    },
    {
     "name": "stdout",
     "output_type": "stream",
     "text": [
      "speechbrain.utils.train_logger - epoch: 8, lr: 3.14e-03, steps: 1520, optimizer: Adam - train loss: 4.31e+02 - valid loss: 2.31e+02, valid CER: 1.00e+02, valid WER: 1.00e+02\n",
      "speechbrain.utils.checkpoints - Saved an end-of-epoch checkpoint in results/transformer/Task_1/save/CKPT+2024-02-18+23-30-39+00\n",
      "speechbrain.utils.epoch_loop - Going into epoch 9\n"
     ]
    },
    {
     "name": "stderr",
     "output_type": "stream",
     "text": [
      "\n",
      "100%|████████████████████████████████████████████████████████████████████████| 190/190 [01:40<00:00,  1.89it/s, train_loss=430]\n",
      "100%|████████████████████████████████████████████████████████████████████████████████████████| 137/137 [01:01<00:00,  2.24it/s]"
     ]
    },
    {
     "name": "stdout",
     "output_type": "stream",
     "text": [
      "speechbrain.utils.train_logger - epoch: 9, lr: 2.96e-03, steps: 1710, optimizer: Adam - train loss: 4.30e+02 - valid loss: 2.31e+02, valid CER: 1.00e+02, valid WER: 1.00e+02\n",
      "speechbrain.utils.checkpoints - Saved an end-of-epoch checkpoint in results/transformer/Task_1/save/CKPT+2024-02-18+23-33-21+00\n",
      "speechbrain.utils.epoch_loop - Going into epoch 10\n"
     ]
    },
    {
     "name": "stderr",
     "output_type": "stream",
     "text": [
      "\n",
      "100%|████████████████████████████████████████████████████████████████████████| 190/190 [01:34<00:00,  2.00it/s, train_loss=430]\n",
      "100%|████████████████████████████████████████████████████████████████████████████████████████| 137/137 [01:03<00:00,  2.15it/s]"
     ]
    },
    {
     "name": "stdout",
     "output_type": "stream",
     "text": [
      "speechbrain.utils.train_logger - epoch: 10, lr: 2.81e-03, steps: 1900, optimizer: Adam - train loss: 4.30e+02 - valid loss: 2.31e+02, valid CER: 1.00e+02, valid WER: 1.00e+02\n",
      "speechbrain.utils.checkpoints - Saved an end-of-epoch checkpoint in results/transformer/Task_1/save/CKPT+2024-02-18+23-36-00+00\n"
     ]
    },
    {
     "name": "stderr",
     "output_type": "stream",
     "text": [
      "\n"
     ]
    },
    {
     "name": "stdout",
     "output_type": "stream",
     "text": [
      "speechbrain.utils.epoch_loop - Going into epoch 11\n"
     ]
    },
    {
     "name": "stderr",
     "output_type": "stream",
     "text": [
      "100%|████████████████████████████████████████████████████████████████████████| 190/190 [01:33<00:00,  2.03it/s, train_loss=430]\n",
      "100%|████████████████████████████████████████████████████████████████████████████████████████| 137/137 [01:05<00:00,  2.10it/s]"
     ]
    },
    {
     "name": "stdout",
     "output_type": "stream",
     "text": [
      "speechbrain.utils.train_logger - epoch: 11, lr: 2.68e-03, steps: 2090, optimizer: Adam - train loss: 4.30e+02 - valid loss: 2.31e+02, valid CER: 1.00e+02, valid WER: 1.00e+02\n",
      "speechbrain.utils.checkpoints - Saved an end-of-epoch checkpoint in results/transformer/Task_1/save/CKPT+2024-02-18+23-38-39+00\n"
     ]
    },
    {
     "name": "stderr",
     "output_type": "stream",
     "text": [
      "\n"
     ]
    },
    {
     "name": "stdout",
     "output_type": "stream",
     "text": [
      "speechbrain.utils.checkpoints - Deleted checkpoint in results/transformer/Task_1/save/CKPT+2024-02-18+23-11-34+00\n",
      "speechbrain.utils.epoch_loop - Going into epoch 12\n"
     ]
    },
    {
     "name": "stderr",
     "output_type": "stream",
     "text": [
      "100%|████████████████████████████████████████████████████████████████████████| 190/190 [01:34<00:00,  2.02it/s, train_loss=430]\n",
      "100%|████████████████████████████████████████████████████████████████████████████████████████| 137/137 [01:02<00:00,  2.18it/s]"
     ]
    },
    {
     "name": "stdout",
     "output_type": "stream",
     "text": [
      "speechbrain.utils.train_logger - epoch: 12, lr: 2.57e-03, steps: 2280, optimizer: Adam - train loss: 4.30e+02 - valid loss: 2.30e+02, valid CER: 1.00e+02, valid WER: 1.00e+02\n",
      "speechbrain.utils.checkpoints - Saved an end-of-epoch checkpoint in results/transformer/Task_1/save/CKPT+2024-02-18+23-41-16+00\n"
     ]
    },
    {
     "name": "stderr",
     "output_type": "stream",
     "text": [
      "\n"
     ]
    },
    {
     "name": "stdout",
     "output_type": "stream",
     "text": [
      "speechbrain.utils.checkpoints - Deleted checkpoint in results/transformer/Task_1/save/CKPT+2024-02-18+23-14-03+00\n",
      "speechbrain.utils.epoch_loop - Going into epoch 13\n"
     ]
    },
    {
     "name": "stderr",
     "output_type": "stream",
     "text": [
      "100%|████████████████████████████████████████████████████████████████████████| 190/190 [01:28<00:00,  2.16it/s, train_loss=430]\n",
      "100%|████████████████████████████████████████████████████████████████████████████████████████| 137/137 [01:02<00:00,  2.21it/s]"
     ]
    },
    {
     "name": "stdout",
     "output_type": "stream",
     "text": [
      "speechbrain.utils.train_logger - epoch: 13, lr: 2.46e-03, steps: 2470, optimizer: Adam - train loss: 4.30e+02 - valid loss: 2.30e+02, valid CER: 1.00e+02, valid WER: 1.00e+02\n",
      "speechbrain.utils.checkpoints - Saved an end-of-epoch checkpoint in results/transformer/Task_1/save/CKPT+2024-02-18+23-43-47+00\n"
     ]
    },
    {
     "name": "stderr",
     "output_type": "stream",
     "text": [
      "\n"
     ]
    },
    {
     "name": "stdout",
     "output_type": "stream",
     "text": [
      "speechbrain.utils.checkpoints - Deleted checkpoint in results/transformer/Task_1/save/CKPT+2024-02-18+23-16-41+00\n",
      "speechbrain.utils.epoch_loop - Going into epoch 14\n"
     ]
    },
    {
     "name": "stderr",
     "output_type": "stream",
     "text": [
      "100%|████████████████████████████████████████████████████████████████████████| 190/190 [01:39<00:00,  1.91it/s, train_loss=429]\n",
      "100%|████████████████████████████████████████████████████████████████████████████████████████| 137/137 [01:00<00:00,  2.26it/s]"
     ]
    },
    {
     "name": "stdout",
     "output_type": "stream",
     "text": [
      "speechbrain.utils.train_logger - epoch: 14, lr: 2.38e-03, steps: 2660, optimizer: Adam - train loss: 4.29e+02 - valid loss: 2.30e+02, valid CER: 1.00e+02, valid WER: 1.00e+02\n",
      "speechbrain.utils.checkpoints - Saved an end-of-epoch checkpoint in results/transformer/Task_1/save/CKPT+2024-02-18+23-46-27+00\n"
     ]
    },
    {
     "name": "stderr",
     "output_type": "stream",
     "text": [
      "\n"
     ]
    },
    {
     "name": "stdout",
     "output_type": "stream",
     "text": [
      "speechbrain.utils.checkpoints - Deleted checkpoint in results/transformer/Task_1/save/CKPT+2024-02-18+23-19-45+00\n",
      "speechbrain.utils.epoch_loop - Going into epoch 15\n"
     ]
    },
    {
     "name": "stderr",
     "output_type": "stream",
     "text": [
      "100%|████████████████████████████████████████████████████████████████████████| 190/190 [01:32<00:00,  2.06it/s, train_loss=429]\n",
      "100%|████████████████████████████████████████████████████████████████████████████████████████| 137/137 [00:59<00:00,  2.29it/s]"
     ]
    },
    {
     "name": "stdout",
     "output_type": "stream",
     "text": [
      "speechbrain.utils.train_logger - epoch: 15, lr: 2.29e-03, steps: 2850, optimizer: Adam - train loss: 4.29e+02 - valid loss: 2.29e+02, valid CER: 1.00e+02, valid WER: 1.00e+02\n",
      "speechbrain.utils.checkpoints - Saved an end-of-epoch checkpoint in results/transformer/Task_1/save/CKPT+2024-02-18+23-48-59+00\n"
     ]
    },
    {
     "name": "stderr",
     "output_type": "stream",
     "text": [
      "\n"
     ]
    },
    {
     "name": "stdout",
     "output_type": "stream",
     "text": [
      "speechbrain.utils.checkpoints - Deleted checkpoint in results/transformer/Task_1/save/CKPT+2024-02-18+23-22-39+00\n",
      "speechbrain.utils.epoch_loop - Going into epoch 16\n"
     ]
    },
    {
     "name": "stderr",
     "output_type": "stream",
     "text": [
      "100%|████████████████████████████████████████████████████████████████████████| 190/190 [01:33<00:00,  2.03it/s, train_loss=477]\n",
      "100%|████████████████████████████████████████████████████████████████████████████████████████| 137/137 [01:02<00:00,  2.19it/s]"
     ]
    },
    {
     "name": "stdout",
     "output_type": "stream",
     "text": [
      "speechbrain.utils.train_logger - epoch: 16, lr: 2.22e-03, steps: 3040, optimizer: Adam - train loss: 4.77e+02 - valid loss: 2.29e+02, valid CER: 1.00e+02, valid WER: 1.00e+02\n",
      "speechbrain.utils.checkpoints - Saved an end-of-epoch checkpoint in results/transformer/Task_1/save/CKPT+2024-02-18+23-51-35+00\n"
     ]
    },
    {
     "name": "stderr",
     "output_type": "stream",
     "text": [
      "\n"
     ]
    },
    {
     "name": "stdout",
     "output_type": "stream",
     "text": [
      "speechbrain.utils.checkpoints - Deleted checkpoint in results/transformer/Task_1/save/CKPT+2024-02-18+23-25-30+00\n",
      "speechbrain.utils.epoch_loop - Going into epoch 17\n"
     ]
    },
    {
     "name": "stderr",
     "output_type": "stream",
     "text": [
      "100%|████████████████████████████████████████████████████████████████████████| 190/190 [01:28<00:00,  2.15it/s, train_loss=417]\n",
      "100%|████████████████████████████████████████████████████████████████████████████████████████| 137/137 [00:53<00:00,  2.56it/s]"
     ]
    },
    {
     "name": "stdout",
     "output_type": "stream",
     "text": [
      "speechbrain.utils.train_logger - epoch: 17, lr: 2.16e-03, steps: 3230, optimizer: Adam - train loss: 4.17e+02 - valid loss: 2.21e+02, valid CER: 1.00e+02, valid WER: 1.00e+02\n",
      "speechbrain.utils.checkpoints - Saved an end-of-epoch checkpoint in results/transformer/Task_1/save/CKPT+2024-02-18+23-53-58+00\n"
     ]
    },
    {
     "name": "stderr",
     "output_type": "stream",
     "text": [
      "\n"
     ]
    },
    {
     "name": "stdout",
     "output_type": "stream",
     "text": [
      "speechbrain.utils.checkpoints - Deleted checkpoint in results/transformer/Task_1/save/CKPT+2024-02-18+23-28-20+00\n",
      "speechbrain.utils.epoch_loop - Going into epoch 18\n"
     ]
    },
    {
     "name": "stderr",
     "output_type": "stream",
     "text": [
      "100%|████████████████████████████████████████████████████████████████████████| 190/190 [01:19<00:00,  2.40it/s, train_loss=408]\n",
      "100%|████████████████████████████████████████████████████████████████████████████████████████| 137/137 [00:55<00:00,  2.47it/s]"
     ]
    },
    {
     "name": "stdout",
     "output_type": "stream",
     "text": [
      "speechbrain.utils.train_logger - epoch: 18, lr: 2.09e-03, steps: 3420, optimizer: Adam - train loss: 4.08e+02 - valid loss: 2.19e+02, valid CER: 1.00e+02, valid WER: 1.00e+02\n",
      "speechbrain.utils.checkpoints - Saved an end-of-epoch checkpoint in results/transformer/Task_1/save/CKPT+2024-02-18+23-56-12+00\n"
     ]
    },
    {
     "name": "stderr",
     "output_type": "stream",
     "text": [
      "\n"
     ]
    },
    {
     "name": "stdout",
     "output_type": "stream",
     "text": [
      "speechbrain.utils.checkpoints - Deleted checkpoint in results/transformer/Task_1/save/CKPT+2024-02-18+23-30-39+00\n",
      "speechbrain.utils.epoch_loop - Going into epoch 19\n"
     ]
    },
    {
     "name": "stderr",
     "output_type": "stream",
     "text": [
      "100%|████████████████████████████████████████████████████████████████████████| 190/190 [01:33<00:00,  2.03it/s, train_loss=406]\n",
      "100%|████████████████████████████████████████████████████████████████████████████████████████| 137/137 [00:57<00:00,  2.39it/s]"
     ]
    },
    {
     "name": "stdout",
     "output_type": "stream",
     "text": [
      "speechbrain.utils.train_logger - epoch: 19, lr: 2.04e-03, steps: 3610, optimizer: Adam - train loss: 4.06e+02 - valid loss: 2.18e+02, valid CER: 1.00e+02, valid WER: 1.00e+02\n",
      "speechbrain.utils.checkpoints - Saved an end-of-epoch checkpoint in results/transformer/Task_1/save/CKPT+2024-02-18+23-58-44+00\n"
     ]
    },
    {
     "name": "stderr",
     "output_type": "stream",
     "text": [
      "\n"
     ]
    },
    {
     "name": "stdout",
     "output_type": "stream",
     "text": [
      "speechbrain.utils.checkpoints - Deleted checkpoint in results/transformer/Task_1/save/CKPT+2024-02-18+23-33-21+00\n",
      "speechbrain.utils.epoch_loop - Going into epoch 20\n"
     ]
    },
    {
     "name": "stderr",
     "output_type": "stream",
     "text": [
      "100%|████████████████████████████████████████████████████████████████████████| 190/190 [01:27<00:00,  2.16it/s, train_loss=404]\n",
      "100%|████████████████████████████████████████████████████████████████████████████████████████| 137/137 [00:53<00:00,  2.58it/s]"
     ]
    },
    {
     "name": "stdout",
     "output_type": "stream",
     "text": [
      "speechbrain.utils.train_logger - epoch: 20, lr: 1.99e-03, steps: 3800, optimizer: Adam - train loss: 4.04e+02 - valid loss: 2.20e+02, valid CER: 97.88, valid WER: 1.00e+02\n",
      "speechbrain.utils.checkpoints - Saved an end-of-epoch checkpoint in results/transformer/Task_1/save/CKPT+2024-02-19+00-01-05+00\n"
     ]
    },
    {
     "name": "stderr",
     "output_type": "stream",
     "text": [
      "\n"
     ]
    },
    {
     "name": "stdout",
     "output_type": "stream",
     "text": [
      "speechbrain.utils.checkpoints - Deleted checkpoint in results/transformer/Task_1/save/CKPT+2024-02-18+23-36-00+00\n",
      "speechbrain.utils.epoch_loop - Going into epoch 21\n"
     ]
    },
    {
     "name": "stderr",
     "output_type": "stream",
     "text": [
      "100%|████████████████████████████████████████████████████████████████████████| 190/190 [01:28<00:00,  2.15it/s, train_loss=404]\n",
      "100%|████████████████████████████████████████████████████████████████████████████████████████| 137/137 [00:55<00:00,  2.46it/s]"
     ]
    },
    {
     "name": "stdout",
     "output_type": "stream",
     "text": [
      "speechbrain.utils.train_logger - epoch: 21, lr: 1.94e-03, steps: 3990, optimizer: Adam - train loss: 4.04e+02 - valid loss: 2.18e+02, valid CER: 1.00e+02, valid WER: 1.00e+02\n",
      "speechbrain.utils.checkpoints - Saved an end-of-epoch checkpoint in results/transformer/Task_1/save/CKPT+2024-02-19+00-03-29+00\n"
     ]
    },
    {
     "name": "stderr",
     "output_type": "stream",
     "text": [
      "\n"
     ]
    },
    {
     "name": "stdout",
     "output_type": "stream",
     "text": [
      "speechbrain.utils.checkpoints - Deleted checkpoint in results/transformer/Task_1/save/CKPT+2024-02-18+23-38-39+00\n",
      "speechbrain.utils.epoch_loop - Going into epoch 22\n"
     ]
    },
    {
     "name": "stderr",
     "output_type": "stream",
     "text": [
      "100%|████████████████████████████████████████████████████████████████████████| 190/190 [01:24<00:00,  2.25it/s, train_loss=403]\n",
      "100%|████████████████████████████████████████████████████████████████████████████████████████| 137/137 [00:58<00:00,  2.34it/s]"
     ]
    },
    {
     "name": "stdout",
     "output_type": "stream",
     "text": [
      "speechbrain.utils.train_logger - epoch: 22, lr: 1.89e-03, steps: 4180, optimizer: Adam - train loss: 4.03e+02 - valid loss: 2.17e+02, valid CER: 1.00e+02, valid WER: 1.00e+02\n",
      "speechbrain.utils.checkpoints - Saved an end-of-epoch checkpoint in results/transformer/Task_1/save/CKPT+2024-02-19+00-05-53+00\n"
     ]
    },
    {
     "name": "stderr",
     "output_type": "stream",
     "text": [
      "\n"
     ]
    },
    {
     "name": "stdout",
     "output_type": "stream",
     "text": [
      "speechbrain.utils.checkpoints - Deleted checkpoint in results/transformer/Task_1/save/CKPT+2024-02-18+23-41-16+00\n",
      "speechbrain.utils.epoch_loop - Going into epoch 23\n"
     ]
    },
    {
     "name": "stderr",
     "output_type": "stream",
     "text": [
      "100%|████████████████████████████████████████████████████████████████████████| 190/190 [01:26<00:00,  2.21it/s, train_loss=402]\n",
      "100%|████████████████████████████████████████████████████████████████████████████████████████| 137/137 [00:54<00:00,  2.53it/s]"
     ]
    },
    {
     "name": "stdout",
     "output_type": "stream",
     "text": [
      "speechbrain.utils.train_logger - epoch: 23, lr: 1.85e-03, steps: 4370, optimizer: Adam - train loss: 4.02e+02 - valid loss: 2.17e+02, valid CER: 1.00e+02, valid WER: 1.00e+02\n",
      "speechbrain.utils.checkpoints - Saved an end-of-epoch checkpoint in results/transformer/Task_1/save/CKPT+2024-02-19+00-08-13+00\n"
     ]
    },
    {
     "name": "stderr",
     "output_type": "stream",
     "text": [
      "\n"
     ]
    },
    {
     "name": "stdout",
     "output_type": "stream",
     "text": [
      "speechbrain.utils.checkpoints - Deleted checkpoint in results/transformer/Task_1/save/CKPT+2024-02-18+23-43-47+00\n",
      "speechbrain.utils.epoch_loop - Going into epoch 24\n"
     ]
    },
    {
     "name": "stderr",
     "output_type": "stream",
     "text": [
      "100%|████████████████████████████████████████████████████████████████████████| 190/190 [01:30<00:00,  2.11it/s, train_loss=401]\n",
      "100%|████████████████████████████████████████████████████████████████████████████████████████| 137/137 [01:15<00:00,  1.82it/s]"
     ]
    },
    {
     "name": "stdout",
     "output_type": "stream",
     "text": [
      "speechbrain.utils.train_logger - epoch: 24, lr: 1.81e-03, steps: 4560, optimizer: Adam - train loss: 4.01e+02 - valid loss: 2.17e+02, valid CER: 1.00e+02, valid WER: 1.00e+02\n",
      "speechbrain.utils.checkpoints - Saved an end-of-epoch checkpoint in results/transformer/Task_1/save/CKPT+2024-02-19+00-10-59+00\n"
     ]
    },
    {
     "name": "stderr",
     "output_type": "stream",
     "text": [
      "\n"
     ]
    },
    {
     "name": "stdout",
     "output_type": "stream",
     "text": [
      "speechbrain.utils.checkpoints - Deleted checkpoint in results/transformer/Task_1/save/CKPT+2024-02-18+23-46-27+00\n",
      "speechbrain.utils.epoch_loop - Going into epoch 25\n"
     ]
    },
    {
     "name": "stderr",
     "output_type": "stream",
     "text": [
      "100%|████████████████████████████████████████████████████████████████████████| 190/190 [02:30<00:00,  1.26it/s, train_loss=401]\n",
      "100%|████████████████████████████████████████████████████████████████████████████████████████| 137/137 [01:35<00:00,  1.44it/s]"
     ]
    },
    {
     "name": "stdout",
     "output_type": "stream",
     "text": [
      "speechbrain.utils.train_logger - epoch: 25, lr: 1.78e-03, steps: 4750, optimizer: Adam - train loss: 4.01e+02 - valid loss: 2.16e+02, valid CER: 1.00e+02, valid WER: 1.00e+02\n",
      "speechbrain.utils.checkpoints - Saved an end-of-epoch checkpoint in results/transformer/Task_1/save/CKPT+2024-02-19+00-15-06+00\n"
     ]
    },
    {
     "name": "stderr",
     "output_type": "stream",
     "text": [
      "\n"
     ]
    },
    {
     "name": "stdout",
     "output_type": "stream",
     "text": [
      "speechbrain.utils.checkpoints - Deleted checkpoint in results/transformer/Task_1/save/CKPT+2024-02-18+23-48-59+00\n",
      "speechbrain.utils.epoch_loop - Going into epoch 26\n"
     ]
    },
    {
     "name": "stderr",
     "output_type": "stream",
     "text": [
      "100%|████████████████████████████████████████████████████████████████████████| 190/190 [01:21<00:00,  2.34it/s, train_loss=401]\n",
      "100%|████████████████████████████████████████████████████████████████████████████████████████| 137/137 [00:57<00:00,  2.40it/s]"
     ]
    },
    {
     "name": "stdout",
     "output_type": "stream",
     "text": [
      "speechbrain.utils.train_logger - epoch: 26, lr: 1.74e-03, steps: 4940, optimizer: Adam - train loss: 4.01e+02 - valid loss: 2.16e+02, valid CER: 1.00e+02, valid WER: 1.00e+02\n",
      "speechbrain.utils.checkpoints - Saved an end-of-epoch checkpoint in results/transformer/Task_1/save/CKPT+2024-02-19+00-17-24+00\n"
     ]
    },
    {
     "name": "stderr",
     "output_type": "stream",
     "text": [
      "\n"
     ]
    },
    {
     "name": "stdout",
     "output_type": "stream",
     "text": [
      "speechbrain.utils.checkpoints - Deleted checkpoint in results/transformer/Task_1/save/CKPT+2024-02-18+23-51-35+00\n",
      "speechbrain.utils.epoch_loop - Going into epoch 27\n"
     ]
    },
    {
     "name": "stderr",
     "output_type": "stream",
     "text": [
      "100%|████████████████████████████████████████████████████████████████████████| 190/190 [01:23<00:00,  2.27it/s, train_loss=400]\n",
      "100%|████████████████████████████████████████████████████████████████████████████████████████| 137/137 [00:50<00:00,  2.70it/s]"
     ]
    },
    {
     "name": "stdout",
     "output_type": "stream",
     "text": [
      "speechbrain.utils.train_logger - epoch: 27, lr: 1.71e-03, steps: 5130, optimizer: Adam - train loss: 4.00e+02 - valid loss: 2.16e+02, valid CER: 1.00e+02, valid WER: 1.00e+02\n",
      "speechbrain.utils.checkpoints - Saved an end-of-epoch checkpoint in results/transformer/Task_1/save/CKPT+2024-02-19+00-19-39+00\n"
     ]
    },
    {
     "name": "stderr",
     "output_type": "stream",
     "text": [
      "\n"
     ]
    },
    {
     "name": "stdout",
     "output_type": "stream",
     "text": [
      "speechbrain.utils.checkpoints - Deleted checkpoint in results/transformer/Task_1/save/CKPT+2024-02-18+23-53-58+00\n",
      "speechbrain.utils.epoch_loop - Going into epoch 28\n"
     ]
    },
    {
     "name": "stderr",
     "output_type": "stream",
     "text": [
      "100%|████████████████████████████████████████████████████████████████████████| 190/190 [01:20<00:00,  2.35it/s, train_loss=399]\n",
      "100%|████████████████████████████████████████████████████████████████████████████████████████| 137/137 [00:55<00:00,  2.48it/s]"
     ]
    },
    {
     "name": "stdout",
     "output_type": "stream",
     "text": [
      "speechbrain.utils.train_logger - epoch: 28, lr: 1.68e-03, steps: 5320, optimizer: Adam - train loss: 3.99e+02 - valid loss: 2.15e+02, valid CER: 1.00e+02, valid WER: 1.00e+02\n",
      "speechbrain.utils.checkpoints - Saved an end-of-epoch checkpoint in results/transformer/Task_1/save/CKPT+2024-02-19+00-21-55+00\n"
     ]
    },
    {
     "name": "stderr",
     "output_type": "stream",
     "text": [
      "\n"
     ]
    },
    {
     "name": "stdout",
     "output_type": "stream",
     "text": [
      "speechbrain.utils.checkpoints - Deleted checkpoint in results/transformer/Task_1/save/CKPT+2024-02-18+23-56-12+00\n",
      "speechbrain.utils.epoch_loop - Going into epoch 29\n"
     ]
    },
    {
     "name": "stderr",
     "output_type": "stream",
     "text": [
      "100%|████████████████████████████████████████████████████████████████████████| 190/190 [01:30<00:00,  2.10it/s, train_loss=399]\n",
      "100%|████████████████████████████████████████████████████████████████████████████████████████| 137/137 [01:02<00:00,  2.18it/s]"
     ]
    },
    {
     "name": "stdout",
     "output_type": "stream",
     "text": [
      "speechbrain.utils.train_logger - epoch: 29, lr: 1.65e-03, steps: 5510, optimizer: Adam - train loss: 3.99e+02 - valid loss: 2.16e+02, valid CER: 1.00e+02, valid WER: 1.00e+02\n",
      "speechbrain.utils.checkpoints - Saved an end-of-epoch checkpoint in results/transformer/Task_1/save/CKPT+2024-02-19+00-24-29+00\n"
     ]
    },
    {
     "name": "stderr",
     "output_type": "stream",
     "text": [
      "\n"
     ]
    },
    {
     "name": "stdout",
     "output_type": "stream",
     "text": [
      "speechbrain.utils.checkpoints - Deleted checkpoint in results/transformer/Task_1/save/CKPT+2024-02-18+23-58-44+00\n",
      "speechbrain.utils.epoch_loop - Going into epoch 30\n"
     ]
    },
    {
     "name": "stderr",
     "output_type": "stream",
     "text": [
      "100%|████████████████████████████████████████████████████████████████████████| 190/190 [01:34<00:00,  2.02it/s, train_loss=398]\n",
      "100%|████████████████████████████████████████████████████████████████████████████████████████| 137/137 [01:04<00:00,  2.11it/s]"
     ]
    },
    {
     "name": "stdout",
     "output_type": "stream",
     "text": [
      "speechbrain.utils.train_logger - epoch: 30, lr: 1.62e-03, steps: 5700, optimizer: Adam - train loss: 3.98e+02 - valid loss: 2.16e+02, valid CER: 1.00e+02, valid WER: 1.00e+02\n",
      "speechbrain.utils.checkpoints - Saved an end-of-epoch checkpoint in results/transformer/Task_1/save/CKPT+2024-02-19+00-27-08+00\n"
     ]
    },
    {
     "name": "stderr",
     "output_type": "stream",
     "text": [
      "\n"
     ]
    },
    {
     "name": "stdout",
     "output_type": "stream",
     "text": [
      "speechbrain.utils.checkpoints - Deleted checkpoint in results/transformer/Task_1/save/CKPT+2024-02-19+00-01-05+00\n",
      "speechbrain.utils.epoch_loop - Going into epoch 31\n"
     ]
    },
    {
     "name": "stderr",
     "output_type": "stream",
     "text": [
      "100%|████████████████████████████████████████████████████████████████████████| 190/190 [01:36<00:00,  1.97it/s, train_loss=398]\n",
      " 42%|█████████████████████████████████████                                                    | 57/137 [00:26<00:37,  2.12it/s]\n"
     ]
    },
    {
     "ename": "KeyboardInterrupt",
     "evalue": "",
     "output_type": "error",
     "traceback": [
      "\u001b[0;31m---------------------------------------------------------------------------\u001b[0m",
      "\u001b[0;31mKeyboardInterrupt\u001b[0m                         Traceback (most recent call last)",
      "Cell \u001b[0;32mIn[10], line 38\u001b[0m\n\u001b[1;32m     35\u001b[0m valid_dataloader_opts \u001b[38;5;241m=\u001b[39m hparams[\u001b[38;5;124m\"\u001b[39m\u001b[38;5;124mvalid_dataloader_opts\u001b[39m\u001b[38;5;124m\"\u001b[39m]\n\u001b[1;32m     37\u001b[0m \u001b[38;5;66;03m# Training\u001b[39;00m\n\u001b[0;32m---> 38\u001b[0m \u001b[43masr_brain\u001b[49m\u001b[38;5;241;43m.\u001b[39;49m\u001b[43mfit\u001b[49m\u001b[43m(\u001b[49m\n\u001b[1;32m     39\u001b[0m \u001b[43m    \u001b[49m\u001b[43masr_brain\u001b[49m\u001b[38;5;241;43m.\u001b[39;49m\u001b[43mhparams\u001b[49m\u001b[38;5;241;43m.\u001b[39;49m\u001b[43mepoch_counter\u001b[49m\u001b[43m,\u001b[49m\n\u001b[1;32m     40\u001b[0m \u001b[43m    \u001b[49m\u001b[43mtrain_data\u001b[49m\u001b[43m,\u001b[49m\n\u001b[1;32m     41\u001b[0m \u001b[43m    \u001b[49m\u001b[43mvalid_data\u001b[49m\u001b[43m,\u001b[49m\n\u001b[1;32m     42\u001b[0m \u001b[43m    \u001b[49m\u001b[43mtrain_loader_kwargs\u001b[49m\u001b[38;5;241;43m=\u001b[39;49m\u001b[43mtrain_dataloader_opts\u001b[49m\u001b[43m,\u001b[49m\n\u001b[1;32m     43\u001b[0m \u001b[43m    \u001b[49m\u001b[43mvalid_loader_kwargs\u001b[49m\u001b[38;5;241;43m=\u001b[39;49m\u001b[43mvalid_dataloader_opts\u001b[49m\n\u001b[1;32m     44\u001b[0m \u001b[43m)\u001b[49m\n\u001b[1;32m     46\u001b[0m \u001b[38;5;66;03m# Testing\u001b[39;00m\n\u001b[1;32m     47\u001b[0m asr_brain\u001b[38;5;241m.\u001b[39mhparams\u001b[38;5;241m.\u001b[39mtest_wer_file \u001b[38;5;241m=\u001b[39m asr_brain\u001b[38;5;241m.\u001b[39mhparams\u001b[38;5;241m.\u001b[39mwer_file\n",
      "File \u001b[0;32m~/meet/ASR/Assignment-1/plot/speechbrain/speechbrain/core.py:1367\u001b[0m, in \u001b[0;36mBrain.fit\u001b[0;34m(self, epoch_counter, train_set, valid_set, progressbar, train_loader_kwargs, valid_loader_kwargs)\u001b[0m\n\u001b[1;32m   1365\u001b[0m \u001b[38;5;28;01mfor\u001b[39;00m epoch \u001b[38;5;129;01min\u001b[39;00m epoch_counter:\n\u001b[1;32m   1366\u001b[0m     \u001b[38;5;28mself\u001b[39m\u001b[38;5;241m.\u001b[39m_fit_train(train_set\u001b[38;5;241m=\u001b[39mtrain_set, epoch\u001b[38;5;241m=\u001b[39mepoch, enable\u001b[38;5;241m=\u001b[39menable)\n\u001b[0;32m-> 1367\u001b[0m     \u001b[38;5;28;43mself\u001b[39;49m\u001b[38;5;241;43m.\u001b[39;49m\u001b[43m_fit_valid\u001b[49m\u001b[43m(\u001b[49m\u001b[43mvalid_set\u001b[49m\u001b[38;5;241;43m=\u001b[39;49m\u001b[43mvalid_set\u001b[49m\u001b[43m,\u001b[49m\u001b[43m \u001b[49m\u001b[43mepoch\u001b[49m\u001b[38;5;241;43m=\u001b[39;49m\u001b[43mepoch\u001b[49m\u001b[43m,\u001b[49m\u001b[43m \u001b[49m\u001b[43menable\u001b[49m\u001b[38;5;241;43m=\u001b[39;49m\u001b[43menable\u001b[49m\u001b[43m)\u001b[49m\n\u001b[1;32m   1369\u001b[0m     \u001b[38;5;66;03m# Debug mode only runs a few epochs\u001b[39;00m\n\u001b[1;32m   1370\u001b[0m     \u001b[38;5;28;01mif\u001b[39;00m (\n\u001b[1;32m   1371\u001b[0m         \u001b[38;5;28mself\u001b[39m\u001b[38;5;241m.\u001b[39mdebug\n\u001b[1;32m   1372\u001b[0m         \u001b[38;5;129;01mand\u001b[39;00m epoch \u001b[38;5;241m==\u001b[39m \u001b[38;5;28mself\u001b[39m\u001b[38;5;241m.\u001b[39mdebug_epochs\n\u001b[1;32m   1373\u001b[0m         \u001b[38;5;129;01mor\u001b[39;00m \u001b[38;5;28mself\u001b[39m\u001b[38;5;241m.\u001b[39m_optimizer_step_limit_exceeded\n\u001b[1;32m   1374\u001b[0m     ):\n",
      "File \u001b[0;32m~/meet/ASR/Assignment-1/plot/speechbrain/speechbrain/core.py:1261\u001b[0m, in \u001b[0;36mBrain._fit_valid\u001b[0;34m(self, valid_set, epoch, enable)\u001b[0m\n\u001b[1;32m   1259\u001b[0m avg_valid_loss \u001b[38;5;241m=\u001b[39m \u001b[38;5;241m0.0\u001b[39m\n\u001b[1;32m   1260\u001b[0m \u001b[38;5;28;01mwith\u001b[39;00m torch\u001b[38;5;241m.\u001b[39mno_grad():\n\u001b[0;32m-> 1261\u001b[0m     \u001b[38;5;28;01mfor\u001b[39;00m batch \u001b[38;5;129;01min\u001b[39;00m tqdm(\n\u001b[1;32m   1262\u001b[0m         valid_set,\n\u001b[1;32m   1263\u001b[0m         dynamic_ncols\u001b[38;5;241m=\u001b[39m\u001b[38;5;28;01mTrue\u001b[39;00m,\n\u001b[1;32m   1264\u001b[0m         disable\u001b[38;5;241m=\u001b[39m\u001b[38;5;129;01mnot\u001b[39;00m enable,\n\u001b[1;32m   1265\u001b[0m         colour\u001b[38;5;241m=\u001b[39m\u001b[38;5;28mself\u001b[39m\u001b[38;5;241m.\u001b[39mtqdm_barcolor[\u001b[38;5;124m\"\u001b[39m\u001b[38;5;124mvalid\u001b[39m\u001b[38;5;124m\"\u001b[39m],\n\u001b[1;32m   1266\u001b[0m     ):\n\u001b[1;32m   1267\u001b[0m         \u001b[38;5;28mself\u001b[39m\u001b[38;5;241m.\u001b[39mstep \u001b[38;5;241m+\u001b[39m\u001b[38;5;241m=\u001b[39m \u001b[38;5;241m1\u001b[39m\n\u001b[1;32m   1268\u001b[0m         loss \u001b[38;5;241m=\u001b[39m \u001b[38;5;28mself\u001b[39m\u001b[38;5;241m.\u001b[39mevaluate_batch(batch, stage\u001b[38;5;241m=\u001b[39mStage\u001b[38;5;241m.\u001b[39mVALID)\n",
      "File \u001b[0;32m~/.local/lib/python3.8/site-packages/tqdm/std.py:1182\u001b[0m, in \u001b[0;36mtqdm.__iter__\u001b[0;34m(self)\u001b[0m\n\u001b[1;32m   1179\u001b[0m time \u001b[38;5;241m=\u001b[39m \u001b[38;5;28mself\u001b[39m\u001b[38;5;241m.\u001b[39m_time\n\u001b[1;32m   1181\u001b[0m \u001b[38;5;28;01mtry\u001b[39;00m:\n\u001b[0;32m-> 1182\u001b[0m     \u001b[38;5;28;01mfor\u001b[39;00m obj \u001b[38;5;129;01min\u001b[39;00m iterable:\n\u001b[1;32m   1183\u001b[0m         \u001b[38;5;28;01myield\u001b[39;00m obj\n\u001b[1;32m   1184\u001b[0m         \u001b[38;5;66;03m# Update and possibly print the progressbar.\u001b[39;00m\n\u001b[1;32m   1185\u001b[0m         \u001b[38;5;66;03m# Note: does not call self.update(1) for speed optimisation.\u001b[39;00m\n",
      "File \u001b[0;32m~/.local/lib/python3.8/site-packages/torch/utils/data/dataloader.py:630\u001b[0m, in \u001b[0;36m_BaseDataLoaderIter.__next__\u001b[0;34m(self)\u001b[0m\n\u001b[1;32m    627\u001b[0m \u001b[38;5;28;01mif\u001b[39;00m \u001b[38;5;28mself\u001b[39m\u001b[38;5;241m.\u001b[39m_sampler_iter \u001b[38;5;129;01mis\u001b[39;00m \u001b[38;5;28;01mNone\u001b[39;00m:\n\u001b[1;32m    628\u001b[0m     \u001b[38;5;66;03m# TODO(https://github.com/pytorch/pytorch/issues/76750)\u001b[39;00m\n\u001b[1;32m    629\u001b[0m     \u001b[38;5;28mself\u001b[39m\u001b[38;5;241m.\u001b[39m_reset()  \u001b[38;5;66;03m# type: ignore[call-arg]\u001b[39;00m\n\u001b[0;32m--> 630\u001b[0m data \u001b[38;5;241m=\u001b[39m \u001b[38;5;28;43mself\u001b[39;49m\u001b[38;5;241;43m.\u001b[39;49m\u001b[43m_next_data\u001b[49m\u001b[43m(\u001b[49m\u001b[43m)\u001b[49m\n\u001b[1;32m    631\u001b[0m \u001b[38;5;28mself\u001b[39m\u001b[38;5;241m.\u001b[39m_num_yielded \u001b[38;5;241m+\u001b[39m\u001b[38;5;241m=\u001b[39m \u001b[38;5;241m1\u001b[39m\n\u001b[1;32m    632\u001b[0m \u001b[38;5;28;01mif\u001b[39;00m \u001b[38;5;28mself\u001b[39m\u001b[38;5;241m.\u001b[39m_dataset_kind \u001b[38;5;241m==\u001b[39m _DatasetKind\u001b[38;5;241m.\u001b[39mIterable \u001b[38;5;129;01mand\u001b[39;00m \\\n\u001b[1;32m    633\u001b[0m         \u001b[38;5;28mself\u001b[39m\u001b[38;5;241m.\u001b[39m_IterableDataset_len_called \u001b[38;5;129;01mis\u001b[39;00m \u001b[38;5;129;01mnot\u001b[39;00m \u001b[38;5;28;01mNone\u001b[39;00m \u001b[38;5;129;01mand\u001b[39;00m \\\n\u001b[1;32m    634\u001b[0m         \u001b[38;5;28mself\u001b[39m\u001b[38;5;241m.\u001b[39m_num_yielded \u001b[38;5;241m>\u001b[39m \u001b[38;5;28mself\u001b[39m\u001b[38;5;241m.\u001b[39m_IterableDataset_len_called:\n",
      "File \u001b[0;32m~/.local/lib/python3.8/site-packages/torch/utils/data/dataloader.py:674\u001b[0m, in \u001b[0;36m_SingleProcessDataLoaderIter._next_data\u001b[0;34m(self)\u001b[0m\n\u001b[1;32m    672\u001b[0m \u001b[38;5;28;01mdef\u001b[39;00m \u001b[38;5;21m_next_data\u001b[39m(\u001b[38;5;28mself\u001b[39m):\n\u001b[1;32m    673\u001b[0m     index \u001b[38;5;241m=\u001b[39m \u001b[38;5;28mself\u001b[39m\u001b[38;5;241m.\u001b[39m_next_index()  \u001b[38;5;66;03m# may raise StopIteration\u001b[39;00m\n\u001b[0;32m--> 674\u001b[0m     data \u001b[38;5;241m=\u001b[39m \u001b[38;5;28;43mself\u001b[39;49m\u001b[38;5;241;43m.\u001b[39;49m\u001b[43m_dataset_fetcher\u001b[49m\u001b[38;5;241;43m.\u001b[39;49m\u001b[43mfetch\u001b[49m\u001b[43m(\u001b[49m\u001b[43mindex\u001b[49m\u001b[43m)\u001b[49m  \u001b[38;5;66;03m# may raise StopIteration\u001b[39;00m\n\u001b[1;32m    675\u001b[0m     \u001b[38;5;28;01mif\u001b[39;00m \u001b[38;5;28mself\u001b[39m\u001b[38;5;241m.\u001b[39m_pin_memory:\n\u001b[1;32m    676\u001b[0m         data \u001b[38;5;241m=\u001b[39m _utils\u001b[38;5;241m.\u001b[39mpin_memory\u001b[38;5;241m.\u001b[39mpin_memory(data, \u001b[38;5;28mself\u001b[39m\u001b[38;5;241m.\u001b[39m_pin_memory_device)\n",
      "File \u001b[0;32m~/.local/lib/python3.8/site-packages/torch/utils/data/_utils/fetch.py:54\u001b[0m, in \u001b[0;36m_MapDatasetFetcher.fetch\u001b[0;34m(self, possibly_batched_index)\u001b[0m\n\u001b[1;32m     52\u001b[0m \u001b[38;5;28;01melse\u001b[39;00m:\n\u001b[1;32m     53\u001b[0m     data \u001b[38;5;241m=\u001b[39m \u001b[38;5;28mself\u001b[39m\u001b[38;5;241m.\u001b[39mdataset[possibly_batched_index]\n\u001b[0;32m---> 54\u001b[0m \u001b[38;5;28;01mreturn\u001b[39;00m \u001b[38;5;28;43mself\u001b[39;49m\u001b[38;5;241;43m.\u001b[39;49m\u001b[43mcollate_fn\u001b[49m\u001b[43m(\u001b[49m\u001b[43mdata\u001b[49m\u001b[43m)\u001b[49m\n",
      "File \u001b[0;32m~/meet/ASR/Assignment-1/plot/speechbrain/speechbrain/dataio/batch.py:125\u001b[0m, in \u001b[0;36mPaddedBatch.__init__\u001b[0;34m(self, examples, padded_keys, device_prep_keys, padding_func, padding_kwargs, apply_default_convert, nonpadded_stack)\u001b[0m\n\u001b[1;32m    120\u001b[0m \u001b[38;5;28;01mif\u001b[39;00m (padded_keys \u001b[38;5;129;01mis\u001b[39;00m \u001b[38;5;129;01mnot\u001b[39;00m \u001b[38;5;28;01mNone\u001b[39;00m \u001b[38;5;129;01mand\u001b[39;00m key \u001b[38;5;129;01min\u001b[39;00m padded_keys) \u001b[38;5;129;01mor\u001b[39;00m (\n\u001b[1;32m    121\u001b[0m     padded_keys \u001b[38;5;129;01mis\u001b[39;00m \u001b[38;5;28;01mNone\u001b[39;00m \u001b[38;5;129;01mand\u001b[39;00m \u001b[38;5;28misinstance\u001b[39m(values[\u001b[38;5;241m0\u001b[39m], torch\u001b[38;5;241m.\u001b[39mTensor)\n\u001b[1;32m    122\u001b[0m ):\n\u001b[1;32m    123\u001b[0m     \u001b[38;5;66;03m# Padding and PaddedData\u001b[39;00m\n\u001b[1;32m    124\u001b[0m     \u001b[38;5;28mself\u001b[39m\u001b[38;5;241m.\u001b[39m__padded_keys\u001b[38;5;241m.\u001b[39mappend(key)\n\u001b[0;32m--> 125\u001b[0m     padded \u001b[38;5;241m=\u001b[39m PaddedData(\u001b[38;5;241m*\u001b[39m\u001b[43mpadding_func\u001b[49m\u001b[43m(\u001b[49m\u001b[43mvalues\u001b[49m\u001b[43m,\u001b[49m\u001b[43m \u001b[49m\u001b[38;5;241;43m*\u001b[39;49m\u001b[38;5;241;43m*\u001b[39;49m\u001b[43mpadding_kwargs\u001b[49m\u001b[43m)\u001b[49m)\n\u001b[1;32m    126\u001b[0m     \u001b[38;5;28msetattr\u001b[39m(\u001b[38;5;28mself\u001b[39m, key, padded)\n\u001b[1;32m    127\u001b[0m \u001b[38;5;28;01melse\u001b[39;00m:\n\u001b[1;32m    128\u001b[0m     \u001b[38;5;66;03m# Default PyTorch collate usually does the right thing\u001b[39;00m\n\u001b[1;32m    129\u001b[0m     \u001b[38;5;66;03m# (convert lists of equal sized tensors to batch tensors, etc.)\u001b[39;00m\n",
      "File \u001b[0;32m~/meet/ASR/Assignment-1/plot/speechbrain/speechbrain/utils/data_utils.py:475\u001b[0m, in \u001b[0;36mbatch_pad_right\u001b[0;34m(tensors, mode, value)\u001b[0m\n\u001b[1;32m    472\u001b[0m valid \u001b[38;5;241m=\u001b[39m []\n\u001b[1;32m    473\u001b[0m \u001b[38;5;28;01mfor\u001b[39;00m t \u001b[38;5;129;01min\u001b[39;00m tensors:\n\u001b[1;32m    474\u001b[0m     \u001b[38;5;66;03m# for each tensor we apply pad_right_to\u001b[39;00m\n\u001b[0;32m--> 475\u001b[0m     padded, valid_percent \u001b[38;5;241m=\u001b[39m \u001b[43mpad_right_to\u001b[49m\u001b[43m(\u001b[49m\n\u001b[1;32m    476\u001b[0m \u001b[43m        \u001b[49m\u001b[43mt\u001b[49m\u001b[43m,\u001b[49m\u001b[43m \u001b[49m\u001b[43mmax_shape\u001b[49m\u001b[43m,\u001b[49m\u001b[43m \u001b[49m\u001b[43mmode\u001b[49m\u001b[38;5;241;43m=\u001b[39;49m\u001b[43mmode\u001b[49m\u001b[43m,\u001b[49m\u001b[43m \u001b[49m\u001b[43mvalue\u001b[49m\u001b[38;5;241;43m=\u001b[39;49m\u001b[43mvalue\u001b[49m\n\u001b[1;32m    477\u001b[0m \u001b[43m    \u001b[49m\u001b[43m)\u001b[49m\n\u001b[1;32m    478\u001b[0m     batched\u001b[38;5;241m.\u001b[39mappend(padded)\n\u001b[1;32m    479\u001b[0m     valid\u001b[38;5;241m.\u001b[39mappend(valid_percent[\u001b[38;5;241m0\u001b[39m])\n",
      "File \u001b[0;32m~/meet/ASR/Assignment-1/plot/speechbrain/speechbrain/utils/data_utils.py:417\u001b[0m, in \u001b[0;36mpad_right_to\u001b[0;34m(tensor, target_shape, mode, value)\u001b[0m\n\u001b[1;32m    414\u001b[0m     i \u001b[38;5;241m-\u001b[39m\u001b[38;5;241m=\u001b[39m \u001b[38;5;241m1\u001b[39m\n\u001b[1;32m    415\u001b[0m     j \u001b[38;5;241m+\u001b[39m\u001b[38;5;241m=\u001b[39m \u001b[38;5;241m1\u001b[39m\n\u001b[0;32m--> 417\u001b[0m tensor \u001b[38;5;241m=\u001b[39m \u001b[43mtorch\u001b[49m\u001b[38;5;241;43m.\u001b[39;49m\u001b[43mnn\u001b[49m\u001b[38;5;241;43m.\u001b[39;49m\u001b[43mfunctional\u001b[49m\u001b[38;5;241;43m.\u001b[39;49m\u001b[43mpad\u001b[49m\u001b[43m(\u001b[49m\u001b[43mtensor\u001b[49m\u001b[43m,\u001b[49m\u001b[43m \u001b[49m\u001b[43mpads\u001b[49m\u001b[43m,\u001b[49m\u001b[43m \u001b[49m\u001b[43mmode\u001b[49m\u001b[38;5;241;43m=\u001b[39;49m\u001b[43mmode\u001b[49m\u001b[43m,\u001b[49m\u001b[43m \u001b[49m\u001b[43mvalue\u001b[49m\u001b[38;5;241;43m=\u001b[39;49m\u001b[43mvalue\u001b[49m\u001b[43m)\u001b[49m\n\u001b[1;32m    419\u001b[0m \u001b[38;5;28;01mreturn\u001b[39;00m tensor, valid_vals\n",
      "\u001b[0;31mKeyboardInterrupt\u001b[0m: "
     ]
    }
   ],
   "source": [
    "hyperparams = global_hyperparams + task_hyperparameters\n",
    "hparams = load_hyperpyyaml(hyperparams)\n",
    "\n",
    "# Create experiment directory\n",
    "sb.create_experiment_directory(\n",
    "    experiment_directory=hparams[\"output_folder\"],\n",
    "    overrides=None,\n",
    ")\n",
    "\n",
    "# Here we create the datasets objects as well as tokenization and encoding\n",
    "(\n",
    "    train_data,\n",
    "    valid_data,\n",
    "    test_data,\n",
    "    tokenizer\n",
    ") = dataio_prepare(hparams)\n",
    "\n",
    "# We download the pretrained LM from HuggingFace (or elsewhere depending on\n",
    "# the path given in the YAML file). The tokenizer is loaded at the same time.\n",
    "run_on_main(hparams[\"pretrainer\"].collect_files)\n",
    "hparams[\"pretrainer\"].load_collected(device=run_opts[\"device\"])\n",
    "\n",
    "# Trainer initialization\n",
    "asr_brain = BaseASR(\n",
    "    modules=hparams[\"modules\"],\n",
    "    opt_class=hparams[\"Adam\"],\n",
    "    hparams=hparams,\n",
    "    checkpointer=hparams[\"checkpointer\"],\n",
    "    run_opts=run_opts,\n",
    "    tokenizer=tokenizer,\n",
    ")\n",
    "\n",
    "# adding objects to trainer:\n",
    "train_dataloader_opts = hparams[\"train_dataloader_opts\"]\n",
    "valid_dataloader_opts = hparams[\"valid_dataloader_opts\"]\n",
    "\n",
    "# Training\n",
    "asr_brain.fit(\n",
    "    asr_brain.hparams.epoch_counter,\n",
    "    train_data,\n",
    "    valid_data,\n",
    "    train_loader_kwargs=train_dataloader_opts,\n",
    "    valid_loader_kwargs=valid_dataloader_opts\n",
    ")\n",
    "\n",
    "# Testing\n",
    "asr_brain.hparams.test_wer_file = asr_brain.hparams.wer_file\n",
    "asr_brain.evaluate(\n",
    "    train_data,\n",
    "    max_key=\"epoch\",\n",
    "    test_loader_kwargs=hparams[\"train_dataloader_opts\"],\n",
    ")"
   ]
  },
  {
   "cell_type": "markdown",
   "metadata": {
    "id": "JbkMK32DJpHZ"
   },
   "source": [
    "# PART III: Visualizing CTC alignments"
   ]
  },
  {
   "cell_type": "code",
   "execution_count": 11,
   "metadata": {
    "id": "zIfWCEVTJvYN"
   },
   "outputs": [
    {
     "name": "stdout",
     "output_type": "stream",
     "text": [
      "torch.Size([8, 377, 150])\n"
     ]
    }
   ],
   "source": [
    "import copy\n",
    "\n",
    "(\n",
    "    train_data,\n",
    "    valid_data,\n",
    "    test_data,\n",
    "    _\n",
    ") = dataio_prepare(hparams)\n",
    "\n",
    "#Creating a test dataloader to get model results on test audio\n",
    "hparams['train_dataloader_opts']['batch_size'] = 8\n",
    "test_loader = asr_brain.make_dataloader(test_data, sb.Stage.TEST, **hparams[\"train_dataloader_opts\"])\n",
    "results = None\n",
    "\n",
    "#Creating a batch for the test dataloader and getting model results\n",
    "for batch in test_loader:\n",
    "    ground_truth_tokens = batch.tokens[0]\n",
    "    target_lens = (ground_truth_tokens != 0).sum(-1)\n",
    "    _, input_lens = batch.sig\n",
    "    results = asr_brain.compute_forward(batch, sb.Stage.TEST)[0]\n",
    "    input_lens = torch.round(input_lens * results.shape[1]).to(torch.int)\n",
    "    break\n",
    "print(results.shape)\n",
    "\n"
   ]
  },
  {
   "cell_type": "code",
   "execution_count": 12,
   "metadata": {
    "id": "9b4G2mMaBzsV"
   },
   "outputs": [],
   "source": [
    "def logadd(x0, x1, x2):\n",
    "\t# produces nan gradients in backward if -inf log-space zero element is used https://github.com/pytorch/pytorch/issues/31829\n",
    "\treturn torch.logsumexp(torch.stack([x0, x1, x2]), dim = 0)"
   ]
  },
  {
   "cell_type": "code",
   "execution_count": 13,
   "metadata": {
    "id": "gBADwCu24x3L"
   },
   "outputs": [],
   "source": [
    "def ctc_alignment(log_probs : torch.Tensor, targets : torch.Tensor, input_lengths : torch.Tensor, \n",
    "                  target_lengths : torch.Tensor, blank : int = 0):\n",
    "    '''\n",
    "    this function computes the ctc-alignment matrix, then performs a backward-algorithm\n",
    "    pass on it to find the best state sequence (states being the transformer states here).\n",
    "    the ctc-algorithm equations can be found on the 3rd slide of the following link -\n",
    "    https://www.cse.iitb.ac.in/~pjyothi/cs753/slides/lecture15.pdf\n",
    "    keep in mind that the equations are 1-indexed while our implementation is 0-indexed\n",
    "    '''\n",
    "    max_input_len, batch_size, num_tokens = log_probs.shape\n",
    "    _, max_target_len = targets.shape\n",
    "\n",
    "    batch_arange = torch.arange(batch_size, device = input_lengths.device)\n",
    "\n",
    "    ##############################\n",
    "    # TODO(1) - add \"_\" (blank) token alternatively to target sequence (starting and ending with \"_\")\n",
    "    # example - \"a man saw a cat\" should become \"_a_ _m_a_n_ _s_a_w_ _a_ _c_a_t_\"\n",
    "    # (assuming that each character is one token; a token might be >1 characters long)\n",
    "    # if the original sequence had L tokens, `padded_targets` should now have 2*L+1 tokens\n",
    "    padded_targets = torch.ones((batch_size,2*max_target_len+1),device = input_lengths.device).to(torch.long)*blank\n",
    "    padded_targets[:,torch.arange(max_target_len)*2+1] = targets\n",
    "    ##############################\n",
    "    assert padded_targets.shape == (batch_size, 2 * max_target_len + 1)\n",
    "\n",
    "    # Compute positions where target[j] != target[j-2]\n",
    "    diff_labels = torch.cat([\n",
    "        torch.as_tensor([[False, False]], device = targets.device).expand(len(batch_arange), -1),\n",
    "        padded_targets[:, 2:] != padded_targets[:, :-2]\n",
    "    ], dim = 1)\n",
    "\n",
    "    # Gather log-probs per input sequence index for tokens in target sequence\n",
    "    log_probs_for_targets = log_probs.gather(-1, padded_targets.unsqueeze(0).repeat(max_input_len, 1, 1))\n",
    "    assert log_probs_for_targets.shape == (max_input_len, batch_size, max_target_len * 2 + 1)\n",
    "\n",
    "    # To avoid nan grad in torch.logsumexp\n",
    "    min_element = torch.finfo(log_probs.dtype).min\n",
    "\n",
    "    # Padding is required at the start of log_alpha for vectorization\n",
    "    # Allows using torch.where for the i=j-2 step of ctc alignment computation\n",
    "    zero_padding = 2\n",
    "\n",
    "    # `log_alpha` is the ctc-probability matrix\n",
    "    # We want to deal in the logarithm-space since the probabilities can end up\n",
    "    # becoming very small and naive multiplication of small numbers can be imprecise.\n",
    "    # Note that usual-multiplication -> log-addition.\n",
    "    # Also note the utility of `logadd` function\n",
    "    log_alpha = torch.full(\n",
    "        size = (max_input_len, batch_size, zero_padding + padded_targets.shape[-1]),\n",
    "        fill_value = min_element, device = log_probs.device, dtype = log_probs.dtype\n",
    "    )\n",
    "\n",
    "    ##############################\n",
    "    # TODO(2) - initialization of ctc-probability matrix\n",
    "    # alpha[0] is non-zero only for first blank (\"_\") and first non-blank token\n",
    "    log_alpha[0, :, zero_padding + 0] = log_probs[0, :, blank]\n",
    "    log_alpha[0, :, zero_padding + 1] = log_probs[0, batch_arange, padded_targets[:,1]] \n",
    "    ##############################\n",
    "\n",
    "    # iterate over input sequence\n",
    "    for t in range(1, max_input_len):\n",
    "        ##############################\n",
    "        # TODO(3) - compute updates using indices j, j-1, j-2; refer to slides\n",
    "        # note that updates for j-2 are conditional upon y[j-2] != y[j], use torch.where\n",
    "        # with a suitable boolean tensor defined above\n",
    "        update_j =  log_alpha[t - 1, :, 2:]\n",
    "        update_j_minus_1 = log_alpha[t - 1, :, 1:-1]\n",
    "        update_j_minus_2 = torch.where( diff_labels , log_alpha[t - 1, :, :-2], torch.finfo(torch.float32).min)\n",
    "        ##############################\n",
    "\n",
    "        # multiplying with probability is equiv. to adding in the log space\n",
    "        log_alpha[t, :, zero_padding:] = logadd(\n",
    "            update_j,\n",
    "            update_j_minus_1,\n",
    "            update_j_minus_2\n",
    "        ) + log_probs_for_targets[t]\n",
    "\n",
    "    ##############################\n",
    "    # TODO(4) - compute ctc loss terms\n",
    "    # refer to slides, the CTC(x, y) equation - loss is from time step T, tokens 2l, 2l+1\n",
    "    # T might be different for different sequences, use `input_lengths` for that\n",
    "    # l might be different for different sequences, use `target_lengths` for that\n",
    "    ctc_loss_term = log_alpha[input_lengths - 1, batch_arange].gather(-1, torch.stack([zero_padding + target_lengths * 2 - 1, zero_padding + target_lengths * 2], dim = -1)) \n",
    "    \n",
    "    ### new helper variables to help with this computation.\n",
    "    ##############################\n",
    "    assert ctc_loss_term.shape == (batch_size, 2)\n",
    "\n",
    "    # `path` stores the best hidden state sequence\n",
    "    path = torch.zeros(max_input_len, batch_size, device = log_alpha.device, dtype = torch.int64)\n",
    "\n",
    "    # at timestep T, best index is 2l or 2l+1\n",
    "    path[input_lengths - 1, batch_arange] = zero_padding + 2 * target_lengths - 1 + ctc_loss_term.argmax(dim = -1)\n",
    "\n",
    "    for t, indices in reversed(list(enumerate(path))[1:]):\n",
    "        ##############################\n",
    "        # TODO(5) - compute possible previous states given the current best states in `indices`\n",
    "        # previous states could come from transition i->j where i can be j, j-1 or j-2 (if y[j] != y[j-2])\n",
    "        \n",
    "\t\t# if y[j] == y[j-2], use 0 as possible previous state; since 0 is a padding state,\n",
    "        # log_alpha will be very low and argmax below would take care of it.\n",
    "        # such tricks to handle corner-cases help vectorize code in a better fashion.\n",
    "        possible_previous_states = torch.stack([(indices - 2) * diff_labels[batch_arange,torch.clamp(indices-zero_padding,min=0)], torch.clamp(indices - 1,min=0), indices], dim = -1)\n",
    "        ##############################\n",
    "        assert possible_previous_states.shape == (batch_size, 3)\n",
    "\n",
    "        # get best possible previous state\n",
    "        argmax_among_prev_states = log_alpha[t - 1, batch_arange].gather(-1, possible_previous_states).argmax(dim = -1)\n",
    "        path[t - 1] += (indices - 2 + argmax_among_prev_states).clamp(min = 0)\n",
    "\n",
    "    # color correct (input_index, target_index) cell\n",
    "    # `highlighted_best_path` is a binary (0-1) matrix\n",
    "    highlighted_best_path = torch.zeros_like(log_alpha).scatter_(\n",
    "        dim = -1,\n",
    "        index = path.unsqueeze(-1),\n",
    "        value = 1.0\n",
    "    )[..., (zero_padding + 1):]\n",
    "\n",
    "    # compute unpadded best path\n",
    "    # `highlighted_best_path` can have blank's (\"_\"), we want a mapping to the non-blank tokens only\n",
    "    # (assumed convention) when removing padding, we assign a blank token's positions to the previous token;\n",
    "    # note that the foremost blank token has already been removed above\n",
    "    unpadded_best_path = highlighted_best_path.reshape(max_input_len, batch_size, max_target_len, 2).sum(-1)\n",
    "    assert unpadded_best_path.shape == (max_input_len, batch_size, max_target_len)\n",
    "\n",
    "    return unpadded_best_path"
   ]
  },
  {
   "cell_type": "code",
   "execution_count": 14,
   "metadata": {
    "id": "KBHYK7so-G2j"
   },
   "outputs": [],
   "source": [
    "#Computing CTC alignments using the model results\n",
    "results_in = results.cpu().transpose(0,1)\n",
    "alignment = ctc_alignment(results_in, ground_truth_tokens, input_lens, target_lens, blank = 0)\n",
    "alignment = alignment[:,0, :target_lens[0]]"
   ]
  },
  {
   "cell_type": "code",
   "execution_count": 15,
   "metadata": {
    "id": "wGXi20uxgO9N"
   },
   "outputs": [],
   "source": [
    "# Tokenizer is an object of the SentencePieceProcessor class,\n",
    "# Create an array of all the tokens of tokenizer, arranged according to their token IDs\n",
    "\n",
    "import numpy as np\n",
    "\n",
    "# Get the total number of tokens in the model\n",
    "def array_of_all_tokens(tokenizer):\n",
    "  num_tokens = tokenizer.get_piece_size()\n",
    "\n",
    "  all_tokens_and_ids = [(tokenizer.id_to_piece(token_id), token_id) for token_id in range(num_tokens)]\n",
    "  all_token=[]\n",
    "  for token, token_id in all_tokens_and_ids:\n",
    "      all_token.append(token)\n",
    "  all_tokens=np.array(all_token)\n",
    "  return all_tokens"
   ]
  },
  {
   "cell_type": "code",
   "execution_count": 19,
   "metadata": {
    "id": "eLwAC5qeYm2M"
   },
   "outputs": [],
   "source": [
    "############################\n",
    "# TODO(6) -  Plot the alignments of the output tokens of the model and the input audio signal\n",
    "# For this, use the ctc_alignments function and the array of all tokens previously created\n",
    "############################\n",
    "import matplotlib.pyplot as plt\n",
    "import seaborn as sns\n",
    "def plotting(test_data,all_tokens):\n",
    "    plt.clf()\n",
    "    plt.figure(figsize=(24, 24))\n",
    "    sns.heatmap(alignment.T)\n",
    "    plt.ylabel('Output Tokens')\n",
    "    plt.xlabel('Input Audio Timestamps')\n",
    "    print([tokenizer.decode(tok.item()) for tok in ground_truth_tokens[0]])\n",
    "    plt.yticks(np.arange(len(ground_truth_tokens[0])),[tokenizer.decode(tok.item()) for tok in ground_truth_tokens[0]],rotation=0)\n",
    "    plt.savefig('CTCalignments.png')\n",
    "  # Returns nothing, displays plot (save as image CTCalignments.png)\n",
    "  # Uses alignment computed two cells back\n",
    "  # Refer to the provided image in the assignment pdf for reference"
   ]
  },
  {
   "cell_type": "code",
   "execution_count": 20,
   "metadata": {
    "id": "GM0TUMWkDIeD"
   },
   "outputs": [],
   "source": [
    "def print_gt(tokenizer,ground_truth_tokens):\n",
    "  print(ground_truth_tokens[0])\n",
    "  print(tokenizer.decode([int(x) for x in ground_truth_tokens[0]]))"
   ]
  },
  {
   "cell_type": "code",
   "execution_count": 21,
   "metadata": {
    "id": "EE3Fzy_P0934"
   },
   "outputs": [
    {
     "name": "stdout",
     "output_type": "stream",
     "text": [
      "['HE', 'DO', 'E', 'S', 'N', \"'\", 'T', 'SAY', '', 'E', 'X', 'A', 'C', 'T', 'LY', 'WHAT', 'IT', '', 'I', 'S', 'SAID', '', 'R', 'U', 'TH', 'A', 'LITTLE', '', 'D', 'U', 'B', 'I', 'OUS', 'LY', 'BUT', 'IT', \"'\", 'S', 'SOME', 'TH', 'ING', 'ABOUT', '', 'L', 'AND', 'AND', '', 'RA', 'I', 'L', 'RO', 'A', 'D', 'S', 'AND', 'THE', 'E', 'KNOW', 'S', 'F', 'ATH', 'ER', 'THAT', 'FOR', 'T', 'UN', 'E', 'S', 'A', 'RE', '', 'M', 'A', 'D', 'E', 'NO', 'B', 'O', 'D', 'Y', 'KNOW', 'S', '', 'E', 'X', 'A', 'C', 'T', 'LY', 'HOW', 'IN', 'A', '', 'NE', 'W', 'CO', 'UN', 'T', 'R', 'Y']\n",
      "tensor([ 28,  65,   3,   2,  16,  44,   4, 137,   1,   3, 140,   5, 148,   4,\n",
      "         43,  96,  39,   1, 149,   2,  76,   1,  31,  10,  36,  15, 117,   1,\n",
      "          9,  10, 144, 149, 103,  43,  69,  39,  44,   2,  98,  36,  24, 131,\n",
      "          1,  11,  73,  18,   1,  55, 149,  11,  62,   5,   9,   2,  18,   6,\n",
      "          3, 114,   2,  33, 102,  13,  38,  50,   4,  57,   3,   2,  15,  17,\n",
      "          1,   8,   5,   9,   3,  77, 144,   7,   9,  12, 114,   2,   1,   3,\n",
      "        140,   5, 148,   4,  43, 124,  34,  15,   1,  51, 147,  52,  57,   4,\n",
      "         31,  12])\n",
      "HE DOESN'T SAY EXACTLY WHAT IT IS SAID RUTH A LITTLE DUBIOUSLY BUT IT'S SOMETHING ABOUT LAND AND RAILROADS AND THEE KNOWS FATHER THAT FORTUNES ARE MADE NOBODY KNOWS EXACTLY HOW IN A NEW COUNTRY\n"
     ]
    },
    {
     "data": {
      "text/plain": [
       "<Figure size 640x480 with 0 Axes>"
      ]
     },
     "metadata": {},
     "output_type": "display_data"
    },
    {
     "data": {
      "image/png": "[encoded data removed]",
      "text/plain": [
       "<Figure size 2400x2400 with 2 Axes>"
      ]
     },
     "metadata": {},
     "output_type": "display_data"
    }
   ],
   "source": [
    "all_tokens=array_of_all_tokens(tokenizer)\n",
    "plotting(test_data,all_tokens)\n",
    "print_gt(tokenizer,ground_truth_tokens)"
   ]
  },
  {
   "cell_type": "code",
   "execution_count": null,
   "metadata": {},
   "outputs": [],
   "source": []
  }
 ],
 "metadata": {
  "accelerator": "GPU",
  "colab": {
   "collapsed_sections": [
    "bKXIYTJSOnt_",
    "rtdr1VnyCQTJ"
   ],
   "gpuType": "T4",
   "provenance": []
  },
  "kernelspec": {
   "display_name": "Python 3 (ipykernel)",
   "language": "python",
   "name": "python3"
  },
  "language_info": {
   "codemirror_mode": {
    "name": "ipython",
    "version": 3
   },
   "file_extension": ".py",
   "mimetype": "text/x-python",
   "name": "python",
   "nbconvert_exporter": "python",
   "pygments_lexer": "ipython3",
   "version": "3.8.10"
  }
 },
 "nbformat": 4,
 "nbformat_minor": 4
}
